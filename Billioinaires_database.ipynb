{
  "nbformat": 4,
  "nbformat_minor": 0,
  "metadata": {
    "colab": {
      "provenance": [],
      "authorship_tag": "ABX9TyNqie0C2Vnz8Ngt+prsik0C",
      "include_colab_link": true
    },
    "kernelspec": {
      "name": "python3",
      "display_name": "Python 3"
    },
    "language_info": {
      "name": "python"
    }
  },
  "cells": [
    {
      "cell_type": "markdown",
      "metadata": {
        "id": "view-in-github",
        "colab_type": "text"
      },
      "source": [
        "<a href=\"https://colab.research.google.com/github/aksb15/Python/blob/Data-Analytics/Billioinaires_database.ipynb\" target=\"_parent\"><img src=\"https://colab.research.google.com/assets/colab-badge.svg\" alt=\"Open In Colab\"/></a>"
      ]
    },
    {
      "cell_type": "code",
      "source": [
        "import numpy as np\n",
        "import pandas as pd\n",
        "import matplotlib.pyplot as plt\n",
        "import plotly.express as px\n",
        "from plotly.offline import init_notebook_mode\n",
        "plt.style.use('dark_background')\n",
        "init_notebook_mode(connected=True)\n",
        "import seaborn as sns\n",
        "\n",
        "\n",
        "from matplotlib.offsetbox import OffsetImage,AnnotationBbox\n",
        "%matplotlib inline\n"
      ],
      "metadata": {
        "id": "9Ur15zHfLdu2",
        "colab": {
          "base_uri": "https://localhost:8080/",
          "height": 17
        },
        "outputId": "13aaf1f7-0ae6-45a2-e6cf-e6f4f1c66d23"
      },
      "execution_count": null,
      "outputs": [
        {
          "output_type": "display_data",
          "data": {
            "text/html": [
              "        <script type=\"text/javascript\">\n",
              "        window.PlotlyConfig = {MathJaxConfig: 'local'};\n",
              "        if (window.MathJax) {MathJax.Hub.Config({SVG: {font: \"STIX-Web\"}});}\n",
              "        if (typeof require !== 'undefined') {\n",
              "        require.undef(\"plotly\");\n",
              "        requirejs.config({\n",
              "            paths: {\n",
              "                'plotly': ['https://cdn.plot.ly/plotly-2.8.3.min']\n",
              "            }\n",
              "        });\n",
              "        require(['plotly'], function(Plotly) {\n",
              "            window._Plotly = Plotly;\n",
              "        });\n",
              "        }\n",
              "        </script>\n",
              "        "
            ]
          },
          "metadata": {}
        }
      ]
    },
    {
      "cell_type": "code",
      "source": [
        "pip install matplotlib --upgrade"
      ],
      "metadata": {
        "id": "rTPtq4IRQcEN",
        "outputId": "aad5a3c9-20f4-4eef-ff9a-d2ad70e9bc6a",
        "colab": {
          "base_uri": "https://localhost:8080/"
        }
      },
      "execution_count": null,
      "outputs": [
        {
          "output_type": "stream",
          "name": "stdout",
          "text": [
            "Looking in indexes: https://pypi.org/simple, https://us-python.pkg.dev/colab-wheels/public/simple/\n",
            "Requirement already satisfied: matplotlib in /usr/local/lib/python3.8/dist-packages (3.6.2)\n",
            "Requirement already satisfied: pyparsing>=2.2.1 in /usr/local/lib/python3.8/dist-packages (from matplotlib) (3.0.9)\n",
            "Requirement already satisfied: numpy>=1.19 in /usr/local/lib/python3.8/dist-packages (from matplotlib) (1.21.6)\n",
            "Requirement already satisfied: fonttools>=4.22.0 in /usr/local/lib/python3.8/dist-packages (from matplotlib) (4.38.0)\n",
            "Requirement already satisfied: pillow>=6.2.0 in /usr/local/lib/python3.8/dist-packages (from matplotlib) (7.1.2)\n",
            "Requirement already satisfied: kiwisolver>=1.0.1 in /usr/local/lib/python3.8/dist-packages (from matplotlib) (1.4.4)\n",
            "Requirement already satisfied: contourpy>=1.0.1 in /usr/local/lib/python3.8/dist-packages (from matplotlib) (1.0.6)\n",
            "Requirement already satisfied: packaging>=20.0 in /usr/local/lib/python3.8/dist-packages (from matplotlib) (21.3)\n",
            "Requirement already satisfied: cycler>=0.10 in /usr/local/lib/python3.8/dist-packages (from matplotlib) (0.11.0)\n",
            "Requirement already satisfied: python-dateutil>=2.7 in /usr/local/lib/python3.8/dist-packages (from matplotlib) (2.8.2)\n",
            "Requirement already satisfied: six>=1.5 in /usr/local/lib/python3.8/dist-packages (from python-dateutil>=2.7->matplotlib) (1.15.0)\n"
          ]
        }
      ]
    },
    {
      "cell_type": "code",
      "source": [
        "import matplotlib\n",
        "print('matplotlib: {}'.format(matplotlib.__version__))"
      ],
      "metadata": {
        "colab": {
          "base_uri": "https://localhost:8080/"
        },
        "id": "wH2C1JYmQ9hU",
        "outputId": "cd7342a5-9250-4e8a-e5f0-83ebe2493437"
      },
      "execution_count": null,
      "outputs": [
        {
          "output_type": "stream",
          "name": "stdout",
          "text": [
            "matplotlib: 3.2.2\n"
          ]
        }
      ]
    },
    {
      "cell_type": "code",
      "source": [
        "df = pd.read_csv('billionaires.csv')"
      ],
      "metadata": {
        "id": "OSF127RPLfrk"
      },
      "execution_count": null,
      "outputs": []
    },
    {
      "cell_type": "code",
      "source": [
        "df.head()"
      ],
      "metadata": {
        "colab": {
          "base_uri": "https://localhost:8080/",
          "height": 404
        },
        "id": "g5AoVIbjLhlQ",
        "outputId": "fc64af23-7d5c-474b-fb67-3b0f37dcc625"
      },
      "execution_count": null,
      "outputs": [
        {
          "output_type": "execute_result",
          "data": {
            "text/plain": [
              "             name  rank  year  company.founded        company.name  \\\n",
              "0      Bill Gates     1  1996             1975           Microsoft   \n",
              "1      Bill Gates     1  2001             1975           Microsoft   \n",
              "2      Bill Gates     1  2014             1975           Microsoft   \n",
              "3  Warren Buffett     2  1996             1962  Berkshire Hathaway   \n",
              "4  Warren Buffett     2  2001             1962  Berkshire Hathaway   \n",
              "\n",
              "  company.relationship company.sector company.type  demographics.age  \\\n",
              "0              founder       Software          new                40   \n",
              "1              founder       Software          new                45   \n",
              "2              founder       Software          new                58   \n",
              "3              founder        Finance          new                65   \n",
              "4              founder        Finance          new                70   \n",
              "\n",
              "  demographics.gender  ...  location.gdp location.region          wealth.type  \\\n",
              "0                male  ...  8.100000e+12   North America  founder non-finance   \n",
              "1                male  ...  1.060000e+13   North America  founder non-finance   \n",
              "2                male  ...  0.000000e+00   North America  founder non-finance   \n",
              "3                male  ...  8.100000e+12   North America  founder non-finance   \n",
              "4                male  ...  1.060000e+13   North America  founder non-finance   \n",
              "\n",
              "  wealth.worth in billions wealth.how.category  wealth.how.from emerging  \\\n",
              "0                     18.5         New Sectors                      True   \n",
              "1                     58.7         New Sectors                      True   \n",
              "2                     76.0         New Sectors                      True   \n",
              "3                     15.0      Traded Sectors                      True   \n",
              "4                     32.3      Traded Sectors                      True   \n",
              "\n",
              "   wealth.how.industry  wealth.how.inherited wealth.how.was founder  \\\n",
              "0  Technology-Computer         not inherited                   True   \n",
              "1  Technology-Computer         not inherited                   True   \n",
              "2  Technology-Computer         not inherited                   True   \n",
              "3             Consumer         not inherited                   True   \n",
              "4             Consumer         not inherited                   True   \n",
              "\n",
              "  wealth.how.was political  \n",
              "0                     True  \n",
              "1                     True  \n",
              "2                     True  \n",
              "3                     True  \n",
              "4                     True  \n",
              "\n",
              "[5 rows x 22 columns]"
            ],
            "text/html": [
              "\n",
              "  <div id=\"df-6b498698-c1f5-49d2-8d11-4b99833f4056\">\n",
              "    <div class=\"colab-df-container\">\n",
              "      <div>\n",
              "<style scoped>\n",
              "    .dataframe tbody tr th:only-of-type {\n",
              "        vertical-align: middle;\n",
              "    }\n",
              "\n",
              "    .dataframe tbody tr th {\n",
              "        vertical-align: top;\n",
              "    }\n",
              "\n",
              "    .dataframe thead th {\n",
              "        text-align: right;\n",
              "    }\n",
              "</style>\n",
              "<table border=\"1\" class=\"dataframe\">\n",
              "  <thead>\n",
              "    <tr style=\"text-align: right;\">\n",
              "      <th></th>\n",
              "      <th>name</th>\n",
              "      <th>rank</th>\n",
              "      <th>year</th>\n",
              "      <th>company.founded</th>\n",
              "      <th>company.name</th>\n",
              "      <th>company.relationship</th>\n",
              "      <th>company.sector</th>\n",
              "      <th>company.type</th>\n",
              "      <th>demographics.age</th>\n",
              "      <th>demographics.gender</th>\n",
              "      <th>...</th>\n",
              "      <th>location.gdp</th>\n",
              "      <th>location.region</th>\n",
              "      <th>wealth.type</th>\n",
              "      <th>wealth.worth in billions</th>\n",
              "      <th>wealth.how.category</th>\n",
              "      <th>wealth.how.from emerging</th>\n",
              "      <th>wealth.how.industry</th>\n",
              "      <th>wealth.how.inherited</th>\n",
              "      <th>wealth.how.was founder</th>\n",
              "      <th>wealth.how.was political</th>\n",
              "    </tr>\n",
              "  </thead>\n",
              "  <tbody>\n",
              "    <tr>\n",
              "      <th>0</th>\n",
              "      <td>Bill Gates</td>\n",
              "      <td>1</td>\n",
              "      <td>1996</td>\n",
              "      <td>1975</td>\n",
              "      <td>Microsoft</td>\n",
              "      <td>founder</td>\n",
              "      <td>Software</td>\n",
              "      <td>new</td>\n",
              "      <td>40</td>\n",
              "      <td>male</td>\n",
              "      <td>...</td>\n",
              "      <td>8.100000e+12</td>\n",
              "      <td>North America</td>\n",
              "      <td>founder non-finance</td>\n",
              "      <td>18.5</td>\n",
              "      <td>New Sectors</td>\n",
              "      <td>True</td>\n",
              "      <td>Technology-Computer</td>\n",
              "      <td>not inherited</td>\n",
              "      <td>True</td>\n",
              "      <td>True</td>\n",
              "    </tr>\n",
              "    <tr>\n",
              "      <th>1</th>\n",
              "      <td>Bill Gates</td>\n",
              "      <td>1</td>\n",
              "      <td>2001</td>\n",
              "      <td>1975</td>\n",
              "      <td>Microsoft</td>\n",
              "      <td>founder</td>\n",
              "      <td>Software</td>\n",
              "      <td>new</td>\n",
              "      <td>45</td>\n",
              "      <td>male</td>\n",
              "      <td>...</td>\n",
              "      <td>1.060000e+13</td>\n",
              "      <td>North America</td>\n",
              "      <td>founder non-finance</td>\n",
              "      <td>58.7</td>\n",
              "      <td>New Sectors</td>\n",
              "      <td>True</td>\n",
              "      <td>Technology-Computer</td>\n",
              "      <td>not inherited</td>\n",
              "      <td>True</td>\n",
              "      <td>True</td>\n",
              "    </tr>\n",
              "    <tr>\n",
              "      <th>2</th>\n",
              "      <td>Bill Gates</td>\n",
              "      <td>1</td>\n",
              "      <td>2014</td>\n",
              "      <td>1975</td>\n",
              "      <td>Microsoft</td>\n",
              "      <td>founder</td>\n",
              "      <td>Software</td>\n",
              "      <td>new</td>\n",
              "      <td>58</td>\n",
              "      <td>male</td>\n",
              "      <td>...</td>\n",
              "      <td>0.000000e+00</td>\n",
              "      <td>North America</td>\n",
              "      <td>founder non-finance</td>\n",
              "      <td>76.0</td>\n",
              "      <td>New Sectors</td>\n",
              "      <td>True</td>\n",
              "      <td>Technology-Computer</td>\n",
              "      <td>not inherited</td>\n",
              "      <td>True</td>\n",
              "      <td>True</td>\n",
              "    </tr>\n",
              "    <tr>\n",
              "      <th>3</th>\n",
              "      <td>Warren Buffett</td>\n",
              "      <td>2</td>\n",
              "      <td>1996</td>\n",
              "      <td>1962</td>\n",
              "      <td>Berkshire Hathaway</td>\n",
              "      <td>founder</td>\n",
              "      <td>Finance</td>\n",
              "      <td>new</td>\n",
              "      <td>65</td>\n",
              "      <td>male</td>\n",
              "      <td>...</td>\n",
              "      <td>8.100000e+12</td>\n",
              "      <td>North America</td>\n",
              "      <td>founder non-finance</td>\n",
              "      <td>15.0</td>\n",
              "      <td>Traded Sectors</td>\n",
              "      <td>True</td>\n",
              "      <td>Consumer</td>\n",
              "      <td>not inherited</td>\n",
              "      <td>True</td>\n",
              "      <td>True</td>\n",
              "    </tr>\n",
              "    <tr>\n",
              "      <th>4</th>\n",
              "      <td>Warren Buffett</td>\n",
              "      <td>2</td>\n",
              "      <td>2001</td>\n",
              "      <td>1962</td>\n",
              "      <td>Berkshire Hathaway</td>\n",
              "      <td>founder</td>\n",
              "      <td>Finance</td>\n",
              "      <td>new</td>\n",
              "      <td>70</td>\n",
              "      <td>male</td>\n",
              "      <td>...</td>\n",
              "      <td>1.060000e+13</td>\n",
              "      <td>North America</td>\n",
              "      <td>founder non-finance</td>\n",
              "      <td>32.3</td>\n",
              "      <td>Traded Sectors</td>\n",
              "      <td>True</td>\n",
              "      <td>Consumer</td>\n",
              "      <td>not inherited</td>\n",
              "      <td>True</td>\n",
              "      <td>True</td>\n",
              "    </tr>\n",
              "  </tbody>\n",
              "</table>\n",
              "<p>5 rows × 22 columns</p>\n",
              "</div>\n",
              "      <button class=\"colab-df-convert\" onclick=\"convertToInteractive('df-6b498698-c1f5-49d2-8d11-4b99833f4056')\"\n",
              "              title=\"Convert this dataframe to an interactive table.\"\n",
              "              style=\"display:none;\">\n",
              "        \n",
              "  <svg xmlns=\"http://www.w3.org/2000/svg\" height=\"24px\"viewBox=\"0 0 24 24\"\n",
              "       width=\"24px\">\n",
              "    <path d=\"M0 0h24v24H0V0z\" fill=\"none\"/>\n",
              "    <path d=\"M18.56 5.44l.94 2.06.94-2.06 2.06-.94-2.06-.94-.94-2.06-.94 2.06-2.06.94zm-11 1L8.5 8.5l.94-2.06 2.06-.94-2.06-.94L8.5 2.5l-.94 2.06-2.06.94zm10 10l.94 2.06.94-2.06 2.06-.94-2.06-.94-.94-2.06-.94 2.06-2.06.94z\"/><path d=\"M17.41 7.96l-1.37-1.37c-.4-.4-.92-.59-1.43-.59-.52 0-1.04.2-1.43.59L10.3 9.45l-7.72 7.72c-.78.78-.78 2.05 0 2.83L4 21.41c.39.39.9.59 1.41.59.51 0 1.02-.2 1.41-.59l7.78-7.78 2.81-2.81c.8-.78.8-2.07 0-2.86zM5.41 20L4 18.59l7.72-7.72 1.47 1.35L5.41 20z\"/>\n",
              "  </svg>\n",
              "      </button>\n",
              "      \n",
              "  <style>\n",
              "    .colab-df-container {\n",
              "      display:flex;\n",
              "      flex-wrap:wrap;\n",
              "      gap: 12px;\n",
              "    }\n",
              "\n",
              "    .colab-df-convert {\n",
              "      background-color: #E8F0FE;\n",
              "      border: none;\n",
              "      border-radius: 50%;\n",
              "      cursor: pointer;\n",
              "      display: none;\n",
              "      fill: #1967D2;\n",
              "      height: 32px;\n",
              "      padding: 0 0 0 0;\n",
              "      width: 32px;\n",
              "    }\n",
              "\n",
              "    .colab-df-convert:hover {\n",
              "      background-color: #E2EBFA;\n",
              "      box-shadow: 0px 1px 2px rgba(60, 64, 67, 0.3), 0px 1px 3px 1px rgba(60, 64, 67, 0.15);\n",
              "      fill: #174EA6;\n",
              "    }\n",
              "\n",
              "    [theme=dark] .colab-df-convert {\n",
              "      background-color: #3B4455;\n",
              "      fill: #D2E3FC;\n",
              "    }\n",
              "\n",
              "    [theme=dark] .colab-df-convert:hover {\n",
              "      background-color: #434B5C;\n",
              "      box-shadow: 0px 1px 3px 1px rgba(0, 0, 0, 0.15);\n",
              "      filter: drop-shadow(0px 1px 2px rgba(0, 0, 0, 0.3));\n",
              "      fill: #FFFFFF;\n",
              "    }\n",
              "  </style>\n",
              "\n",
              "      <script>\n",
              "        const buttonEl =\n",
              "          document.querySelector('#df-6b498698-c1f5-49d2-8d11-4b99833f4056 button.colab-df-convert');\n",
              "        buttonEl.style.display =\n",
              "          google.colab.kernel.accessAllowed ? 'block' : 'none';\n",
              "\n",
              "        async function convertToInteractive(key) {\n",
              "          const element = document.querySelector('#df-6b498698-c1f5-49d2-8d11-4b99833f4056');\n",
              "          const dataTable =\n",
              "            await google.colab.kernel.invokeFunction('convertToInteractive',\n",
              "                                                     [key], {});\n",
              "          if (!dataTable) return;\n",
              "\n",
              "          const docLinkHtml = 'Like what you see? Visit the ' +\n",
              "            '<a target=\"_blank\" href=https://colab.research.google.com/notebooks/data_table.ipynb>data table notebook</a>'\n",
              "            + ' to learn more about interactive tables.';\n",
              "          element.innerHTML = '';\n",
              "          dataTable['output_type'] = 'display_data';\n",
              "          await google.colab.output.renderOutput(dataTable, element);\n",
              "          const docLink = document.createElement('div');\n",
              "          docLink.innerHTML = docLinkHtml;\n",
              "          element.appendChild(docLink);\n",
              "        }\n",
              "      </script>\n",
              "    </div>\n",
              "  </div>\n",
              "  "
            ]
          },
          "metadata": {},
          "execution_count": 140
        }
      ]
    },
    {
      "cell_type": "code",
      "source": [
        "df.info()"
      ],
      "metadata": {
        "colab": {
          "base_uri": "https://localhost:8080/"
        },
        "id": "sf06CVweLk5d",
        "outputId": "d409dfd9-ef3a-4a63-a8b3-b7fb1541039b"
      },
      "execution_count": null,
      "outputs": [
        {
          "output_type": "stream",
          "name": "stdout",
          "text": [
            "<class 'pandas.core.frame.DataFrame'>\n",
            "RangeIndex: 2614 entries, 0 to 2613\n",
            "Data columns (total 22 columns):\n",
            " #   Column                    Non-Null Count  Dtype  \n",
            "---  ------                    --------------  -----  \n",
            " 0   name                      2614 non-null   object \n",
            " 1   rank                      2614 non-null   int64  \n",
            " 2   year                      2614 non-null   int64  \n",
            " 3   company.founded           2614 non-null   int64  \n",
            " 4   company.name              2576 non-null   object \n",
            " 5   company.relationship      2568 non-null   object \n",
            " 6   company.sector            2591 non-null   object \n",
            " 7   company.type              2578 non-null   object \n",
            " 8   demographics.age          2614 non-null   int64  \n",
            " 9   demographics.gender       2580 non-null   object \n",
            " 10  location.citizenship      2614 non-null   object \n",
            " 11  location.country code     2614 non-null   object \n",
            " 12  location.gdp              2614 non-null   float64\n",
            " 13  location.region           2614 non-null   object \n",
            " 14  wealth.type               2592 non-null   object \n",
            " 15  wealth.worth in billions  2614 non-null   float64\n",
            " 16  wealth.how.category       2613 non-null   object \n",
            " 17  wealth.how.from emerging  2614 non-null   bool   \n",
            " 18  wealth.how.industry       2613 non-null   object \n",
            " 19  wealth.how.inherited      2614 non-null   object \n",
            " 20  wealth.how.was founder    2614 non-null   bool   \n",
            " 21  wealth.how.was political  2614 non-null   bool   \n",
            "dtypes: bool(3), float64(2), int64(4), object(13)\n",
            "memory usage: 395.8+ KB\n"
          ]
        }
      ]
    },
    {
      "cell_type": "code",
      "source": [
        "df.isnull().sum()"
      ],
      "metadata": {
        "colab": {
          "base_uri": "https://localhost:8080/"
        },
        "id": "DSCGEMdQLoKu",
        "outputId": "d5038dc1-3f7c-4039-cd7c-5283fb0e8440"
      },
      "execution_count": null,
      "outputs": [
        {
          "output_type": "execute_result",
          "data": {
            "text/plain": [
              "name                         0\n",
              "rank                         0\n",
              "year                         0\n",
              "company.founded              0\n",
              "company.name                38\n",
              "company.relationship        46\n",
              "company.sector              23\n",
              "company.type                36\n",
              "demographics.age             0\n",
              "demographics.gender         34\n",
              "location.citizenship         0\n",
              "location.country code        0\n",
              "location.gdp                 0\n",
              "location.region              0\n",
              "wealth.type                 22\n",
              "wealth.worth in billions     0\n",
              "wealth.how.category          1\n",
              "wealth.how.from emerging     0\n",
              "wealth.how.industry          1\n",
              "wealth.how.inherited         0\n",
              "wealth.how.was founder       0\n",
              "wealth.how.was political     0\n",
              "dtype: int64"
            ]
          },
          "metadata": {},
          "execution_count": 142
        }
      ]
    },
    {
      "cell_type": "code",
      "source": [
        "df.replace(0, np.nan, inplace=True)"
      ],
      "metadata": {
        "id": "EU0oa5OhLtzH"
      },
      "execution_count": null,
      "outputs": []
    },
    {
      "cell_type": "code",
      "source": [
        "df.replace('0', np.nan, inplace=True)"
      ],
      "metadata": {
        "id": "k9_iENzxrXaj"
      },
      "execution_count": null,
      "outputs": []
    },
    {
      "cell_type": "code",
      "source": [
        "df.isnull().sum()"
      ],
      "metadata": {
        "colab": {
          "base_uri": "https://localhost:8080/"
        },
        "id": "K3t1ahFaLxxa",
        "outputId": "814a61c5-12ee-4893-dba8-af9aa4adcb18"
      },
      "execution_count": null,
      "outputs": [
        {
          "output_type": "execute_result",
          "data": {
            "text/plain": [
              "name                           0\n",
              "rank                           0\n",
              "year                           0\n",
              "company.founded               40\n",
              "company.name                  38\n",
              "company.relationship          46\n",
              "company.sector                23\n",
              "company.type                  36\n",
              "demographics.age             383\n",
              "demographics.gender           34\n",
              "location.citizenship           0\n",
              "location.country code          0\n",
              "location.gdp                1665\n",
              "location.region                1\n",
              "wealth.type                   22\n",
              "wealth.worth in billions       0\n",
              "wealth.how.category           86\n",
              "wealth.how.from emerging       0\n",
              "wealth.how.industry           17\n",
              "wealth.how.inherited           0\n",
              "wealth.how.was founder         0\n",
              "wealth.how.was political       0\n",
              "dtype: int64"
            ]
          },
          "metadata": {},
          "execution_count": 145
        }
      ]
    },
    {
      "cell_type": "code",
      "source": [
        "df.info()"
      ],
      "metadata": {
        "colab": {
          "base_uri": "https://localhost:8080/"
        },
        "id": "Ec3NTConL9yy",
        "outputId": "b41ca392-d2a0-4ade-c858-63764ef13e3d"
      },
      "execution_count": null,
      "outputs": [
        {
          "output_type": "stream",
          "name": "stdout",
          "text": [
            "<class 'pandas.core.frame.DataFrame'>\n",
            "RangeIndex: 2614 entries, 0 to 2613\n",
            "Data columns (total 22 columns):\n",
            " #   Column                    Non-Null Count  Dtype  \n",
            "---  ------                    --------------  -----  \n",
            " 0   name                      2614 non-null   object \n",
            " 1   rank                      2614 non-null   int64  \n",
            " 2   year                      2614 non-null   int64  \n",
            " 3   company.founded           2574 non-null   float64\n",
            " 4   company.name              2576 non-null   object \n",
            " 5   company.relationship      2568 non-null   object \n",
            " 6   company.sector            2591 non-null   object \n",
            " 7   company.type              2578 non-null   object \n",
            " 8   demographics.age          2231 non-null   float64\n",
            " 9   demographics.gender       2580 non-null   object \n",
            " 10  location.citizenship      2614 non-null   object \n",
            " 11  location.country code     2614 non-null   object \n",
            " 12  location.gdp              949 non-null    float64\n",
            " 13  location.region           2613 non-null   object \n",
            " 14  wealth.type               2592 non-null   object \n",
            " 15  wealth.worth in billions  2614 non-null   float64\n",
            " 16  wealth.how.category       2528 non-null   object \n",
            " 17  wealth.how.from emerging  2614 non-null   bool   \n",
            " 18  wealth.how.industry       2597 non-null   object \n",
            " 19  wealth.how.inherited      2614 non-null   object \n",
            " 20  wealth.how.was founder    2614 non-null   bool   \n",
            " 21  wealth.how.was political  2614 non-null   bool   \n",
            "dtypes: bool(3), float64(4), int64(2), object(13)\n",
            "memory usage: 395.8+ KB\n"
          ]
        }
      ]
    },
    {
      "cell_type": "code",
      "source": [
        "df= df.drop(['location.country code','location.gdp','wealth.how.from emerging', 'wealth.how.was founder', 'wealth.how.was political'], axis=1)"
      ],
      "metadata": {
        "id": "dyOj7E6PMFW2"
      },
      "execution_count": null,
      "outputs": []
    },
    {
      "cell_type": "code",
      "source": [
        "df.isnull().sum()"
      ],
      "metadata": {
        "colab": {
          "base_uri": "https://localhost:8080/"
        },
        "id": "cm43i2PONZTm",
        "outputId": "0d57abe6-9fe8-43ac-cfc8-cac45822a568"
      },
      "execution_count": null,
      "outputs": [
        {
          "output_type": "execute_result",
          "data": {
            "text/plain": [
              "name                          0\n",
              "rank                          0\n",
              "year                          0\n",
              "company.founded              40\n",
              "company.name                 38\n",
              "company.relationship         46\n",
              "company.sector               23\n",
              "company.type                 36\n",
              "demographics.age            383\n",
              "demographics.gender          34\n",
              "location.citizenship          0\n",
              "location.region               1\n",
              "wealth.type                  22\n",
              "wealth.worth in billions      0\n",
              "wealth.how.category          86\n",
              "wealth.how.industry          17\n",
              "wealth.how.inherited          0\n",
              "dtype: int64"
            ]
          },
          "metadata": {},
          "execution_count": 148
        }
      ]
    },
    {
      "cell_type": "code",
      "source": [
        "df=df.dropna()"
      ],
      "metadata": {
        "id": "ipfQIrgoNds3"
      },
      "execution_count": null,
      "outputs": []
    },
    {
      "cell_type": "code",
      "source": [
        "df.info()"
      ],
      "metadata": {
        "colab": {
          "base_uri": "https://localhost:8080/"
        },
        "id": "MM2TTj_qNnRi",
        "outputId": "ff1c0e40-d16a-4b31-c1ee-c6b459146b74"
      },
      "execution_count": null,
      "outputs": [
        {
          "output_type": "stream",
          "name": "stdout",
          "text": [
            "<class 'pandas.core.frame.DataFrame'>\n",
            "Int64Index: 2132 entries, 0 to 2613\n",
            "Data columns (total 17 columns):\n",
            " #   Column                    Non-Null Count  Dtype  \n",
            "---  ------                    --------------  -----  \n",
            " 0   name                      2132 non-null   object \n",
            " 1   rank                      2132 non-null   int64  \n",
            " 2   year                      2132 non-null   int64  \n",
            " 3   company.founded           2132 non-null   float64\n",
            " 4   company.name              2132 non-null   object \n",
            " 5   company.relationship      2132 non-null   object \n",
            " 6   company.sector            2132 non-null   object \n",
            " 7   company.type              2132 non-null   object \n",
            " 8   demographics.age          2132 non-null   float64\n",
            " 9   demographics.gender       2132 non-null   object \n",
            " 10  location.citizenship      2132 non-null   object \n",
            " 11  location.region           2132 non-null   object \n",
            " 12  wealth.type               2132 non-null   object \n",
            " 13  wealth.worth in billions  2132 non-null   float64\n",
            " 14  wealth.how.category       2132 non-null   object \n",
            " 15  wealth.how.industry       2132 non-null   object \n",
            " 16  wealth.how.inherited      2132 non-null   object \n",
            "dtypes: float64(3), int64(2), object(12)\n",
            "memory usage: 299.8+ KB\n"
          ]
        }
      ]
    },
    {
      "cell_type": "code",
      "source": [
        "df.rename(columns = {'company.founded':'company_founded', 'company.name':'company_name', 'company.relationship':'company_relationship', 'company.sector':'sector', 'company.type':'company_type','demographics.age':'age', 'demographics.gender':'gender', 'location.citizenship':'country', 'location.region':'region','wealth.type':'wealth_type', 'wealth.worth in billions':'wealthworth_inbillions', 'wealth.how.category':'wealth_how_category', 'wealth.how.industry':'industry', 'wealth.how.inherited':'wealth_how_inherited'}, inplace = True)"
      ],
      "metadata": {
        "id": "PfCs-SWKOEiR"
      },
      "execution_count": null,
      "outputs": []
    },
    {
      "cell_type": "code",
      "source": [
        "unique_relationship = list(df[\"company_relationship\"].str.split(\", \", expand=True).stack().unique())"
      ],
      "metadata": {
        "id": "9VKQuzXcQu1e"
      },
      "execution_count": null,
      "outputs": []
    },
    {
      "cell_type": "code",
      "source": [
        "unique_relationship"
      ],
      "metadata": {
        "colab": {
          "base_uri": "https://localhost:8080/"
        },
        "id": "DtBVJeomQ8HX",
        "outputId": "c662e752-c444-4c51-aa44-2c8456949078"
      },
      "execution_count": null,
      "outputs": [
        {
          "output_type": "execute_result",
          "data": {
            "text/plain": [
              "['founder',\n",
              " 'founder/chairman',\n",
              " 'relation',\n",
              " 'CEO',\n",
              " 'chairman',\n",
              " 'investor',\n",
              " 'founder and CEO',\n",
              " 'Relation',\n",
              " 'founder/CEO',\n",
              " 'owner',\n",
              " 'chairman of management committee',\n",
              " 'founder and chairman',\n",
              " 'Chairman and Chief Executive Officer',\n",
              " 'general director',\n",
              " 'executive chairman',\n",
              " 'Chairman/founder',\n",
              " 'ceo',\n",
              " 'former chairman and CEO',\n",
              " 'relation and chairman',\n",
              " 'investor/founder',\n",
              " 'partner',\n",
              " 'president',\n",
              " 'founder CEO owner',\n",
              " 'Chairman/shareholder',\n",
              " 'Vice President',\n",
              " 'chairman of the board',\n",
              " 'founder/relation',\n",
              " 'investor ',\n",
              " 'founder/vice chairman',\n",
              " 'Chairman',\n",
              " 'Honorary President for Life',\n",
              " 'former CEO',\n",
              " 'inherited',\n",
              " 'vice-chairman',\n",
              " 'owner and vice chair',\n",
              " 'founder/president',\n",
              " 'relation/vice chairman',\n",
              " 'employee',\n",
              " \"head of Microsoft's application software group\",\n",
              " 'chariman',\n",
              " 'Exectuitve Director',\n",
              " 'vice chairman',\n",
              " 'relation and ceo',\n",
              " 'chairwoman',\n",
              " 'founder and executive chairman',\n",
              " 'leadership',\n",
              " 'co-director of zinc',\n",
              " 'copper and lead',\n",
              " 'head of high-yield bond trading dept',\n",
              " 'owner and former CEO',\n",
              " 'relative',\n",
              " 'founder and ceo',\n",
              " 'president and ceo',\n",
              " 'Chief Executive',\n",
              " 'founder and chairwoman',\n",
              " 'supervisory board or directors',\n",
              " 'inventor',\n",
              " 'founder and executive vice chairman',\n",
              " 'Global Head of Real Estate',\n",
              " 'Head of Board of Directors',\n",
              " 'co-chairman',\n",
              " 'Vice President of Infrastructure Software',\n",
              " 'chairman and ceo',\n",
              " 'COO',\n",
              " 'chairwomen',\n",
              " 'deputy chairman',\n",
              " 'director',\n",
              " 'Vice Chairman']"
            ]
          },
          "metadata": {},
          "execution_count": 153
        }
      ]
    },
    {
      "cell_type": "code",
      "source": [
        "df[\"company_relationship\"] = df[\"company_relationship\"].replace(['Relation'], 'relation')"
      ],
      "metadata": {
        "id": "WH0F07seFYHr"
      },
      "execution_count": null,
      "outputs": []
    },
    {
      "cell_type": "code",
      "source": [
        "df[\"company_relationship\"] = df[\"company_relationship\"].replace(['CEO', 'Chief Executive'], 'ceo')"
      ],
      "metadata": {
        "id": "4p1DZ9uOGRWS"
      },
      "execution_count": null,
      "outputs": []
    },
    {
      "cell_type": "code",
      "source": [
        "df[\"company_relationship\"] = df[\"company_relationship\"].replace(['founder and CEO', 'founder and ceo'], 'founder/ceo')"
      ],
      "metadata": {
        "id": "mMuV3QdxGe4T"
      },
      "execution_count": null,
      "outputs": []
    },
    {
      "cell_type": "code",
      "source": [
        "df[\"company_relationship\"] = df[\"company_relationship\"].replace(['founder and chairman', 'Chairman/founder', 'founder and chairwoman'], 'founder/chairman')"
      ],
      "metadata": {
        "id": "USnTKcI5GmXf"
      },
      "execution_count": null,
      "outputs": []
    },
    {
      "cell_type": "code",
      "source": [
        "df[\"company_relationship\"] = df[\"company_relationship\"].replace(['chariman', 'chairman of the board', 'chairwoman', 'Chairman', 'chairwomen'], 'chairman')"
      ],
      "metadata": {
        "id": "ER9_Jwr_Gy7x"
      },
      "execution_count": null,
      "outputs": []
    },
    {
      "cell_type": "code",
      "source": [
        "unique_sector = list(df[\"sector\"].str.split(\", \", expand=True).stack().unique())\n",
        "unique_sector"
      ],
      "metadata": {
        "colab": {
          "base_uri": "https://localhost:8080/"
        },
        "id": "2mSb0Sp1EG2J",
        "outputId": "d87c8d83-0b02-403e-eead-1422c6741b80"
      },
      "execution_count": null,
      "outputs": [
        {
          "output_type": "execute_result",
          "data": {
            "text/plain": [
              "[' Software',\n",
              " ' Finance',\n",
              " ' Communications',\n",
              " 'technology',\n",
              " 'Fashion',\n",
              " 'real estate',\n",
              " ' software',\n",
              " 'banking and insurance',\n",
              " 'construction/real estate/banking',\n",
              " '  Oil refining',\n",
              " ' Oil refining',\n",
              " 'retail',\n",
              " ' retail',\n",
              " ' casinos',\n",
              " 'cars',\n",
              " 'cosmetics',\n",
              " ' fashion',\n",
              " 'media',\n",
              " 'luxury goods',\n",
              " 'oil',\n",
              " 'railroad',\n",
              " 'investments',\n",
              " ' finance',\n",
              " 'furniture',\n",
              " ' technology',\n",
              " 'chocolates',\n",
              " 'banking',\n",
              " 'commodities (sugar',\n",
              " 'cement flour)',\n",
              " 'groceries',\n",
              " 'computer services',\n",
              " 'investment (via holding company)',\n",
              " 'apparel',\n",
              " 'hedge funds',\n",
              " 'mail order retail',\n",
              " 'pharmaceuticals',\n",
              " 'construction',\n",
              " 'hotels',\n",
              " 'gaming',\n",
              " 'investment banking',\n",
              " 'candy',\n",
              " 'investment banking/beer',\n",
              " 'glasses',\n",
              " 'aluminum',\n",
              " 'food packaging',\n",
              " 'brewery',\n",
              " 'metals',\n",
              " 'textiles',\n",
              " 'software',\n",
              " 'coal',\n",
              " 'mining',\n",
              " 'brokerage/banking',\n",
              " 'steel',\n",
              " 'construction/insurance',\n",
              " 'consumer loans',\n",
              " 'energy',\n",
              " 'manufacturing',\n",
              " 'fashion',\n",
              " 'gas',\n",
              " 'holding company',\n",
              " 'oil trading',\n",
              " 'construction/real estate',\n",
              " 'copper',\n",
              " 'finance',\n",
              " 'banking/insurance',\n",
              " 'roller bearings',\n",
              " 'petrochemicals',\n",
              " 'timber',\n",
              " 'coffee',\n",
              " 'oil tankers',\n",
              " 'insurance',\n",
              " 'shipping',\n",
              " 'internet',\n",
              " 'financial services',\n",
              " 'beer',\n",
              " 'diamonds',\n",
              " 'e-commerce',\n",
              " 'publishing',\n",
              " 'cleaning supplies',\n",
              " 'rental cars',\n",
              " 'consumer goods',\n",
              " 'private investment company',\n",
              " 'casinos',\n",
              " 'beverages',\n",
              " 'cruises',\n",
              " 'automotive parts',\n",
              " 'food distribution',\n",
              " 'toys',\n",
              " 'oil and gas',\n",
              " 'electronics',\n",
              " 'chemicals',\n",
              " 'makeup',\n",
              " 'investment',\n",
              " 'industrial goods',\n",
              " 'real estate/banking',\n",
              " 'precious metals',\n",
              " 'luxury fashion',\n",
              " 'medical technology',\n",
              " 'transportation',\n",
              " 'agricultural products',\n",
              " 'liquor',\n",
              " 'cell phones',\n",
              " 'watches',\n",
              " 'healthcare',\n",
              " 'private equity',\n",
              " 'entertainment',\n",
              " 'utilities',\n",
              " 'home improvement retail',\n",
              " 'food',\n",
              " 'travel company',\n",
              " 'clothing ',\n",
              " 'HR consulting',\n",
              " 'alcohol',\n",
              " 'asset management',\n",
              " 'aerospace and defense',\n",
              " 'gum',\n",
              " 'fertilizer',\n",
              " 'stock brokerage',\n",
              " 'Star Wars',\n",
              " 'telecommunications',\n",
              " 'airport maintenance',\n",
              " 'trade investment',\n",
              " 'video games',\n",
              " 'clothing',\n",
              " 'cement',\n",
              " 'internet service provider',\n",
              " 'commodities (wheat',\n",
              " 'shipping)',\n",
              " 'cheese',\n",
              " 'advertising',\n",
              " 'screws',\n",
              " 'tobacco/luxury brands',\n",
              " 'tobacco',\n",
              " 'mutal funds',\n",
              " 'hardware stores',\n",
              " 'restaurants',\n",
              " 'paper manufacturing/investment',\n",
              " 'autos',\n",
              " 'brake systems',\n",
              " 'appliances',\n",
              " 'semiconductors',\n",
              " 'pet supplies',\n",
              " 'property development',\n",
              " 'auto engines',\n",
              " 'glass',\n",
              " 'mobile app',\n",
              " 'medical supplies',\n",
              " 'shopping centers',\n",
              " 'zippers',\n",
              " 'soup',\n",
              " 'natural gas',\n",
              " 'trading company',\n",
              " 'aircraft leasing',\n",
              " 'movies',\n",
              " 'hospitals',\n",
              " 'timber and paper',\n",
              " 'money management',\n",
              " 'technology publishing',\n",
              " 'data storage',\n",
              " 'computers',\n",
              " 'pachinko gaming machines',\n",
              " 'printing and electronics',\n",
              " 'medical devices',\n",
              " 'agribusiness',\n",
              " 'sporting goods',\n",
              " 'postal service',\n",
              " 'cork',\n",
              " 'industrial tools',\n",
              " 'iron ore',\n",
              " 'metals/banking',\n",
              " 'payroll processing',\n",
              " 'greeting cards',\n",
              " 'supermarkets',\n",
              " 'electric motors',\n",
              " 'uniforms',\n",
              " 'food processing/commodities',\n",
              " 'utilities/financial services',\n",
              " 'leveraged buyouts',\n",
              " 'telecomm',\n",
              " 'pet food',\n",
              " 'apparel and eyewear',\n",
              " 'wine',\n",
              " 'cigarette',\n",
              " 'food processing',\n",
              " 'steel/banking',\n",
              " 'biotech',\n",
              " 'shoes',\n",
              " 'cotton yarn',\n",
              " 'commodities trading',\n",
              " 'oil field services',\n",
              " 'cable',\n",
              " 'shale',\n",
              " 'stock broker',\n",
              " 'computer parts',\n",
              " 'roofing',\n",
              " 'oil/telecommunications',\n",
              " 'catering',\n",
              " 'vacuum cleaners',\n",
              " 'auto sales',\n",
              " 'venture capitalist',\n",
              " 'hospitality',\n",
              " 'gas and propane',\n",
              " 'tires',\n",
              " 'palm oil/real estate',\n",
              " 'heavy manufacturing',\n",
              " 'mobile phone batteries',\n",
              " 'port containers',\n",
              " 'banking/publishing',\n",
              " 'investments/real estate',\n",
              " 'sports teams',\n",
              " 'internet provider',\n",
              " 'copper/mining',\n",
              " 'tortillas',\n",
              " 'pipelines',\n",
              " 'web broadcasting',\n",
              " 'cogeneration',\n",
              " 'internet company',\n",
              " 'heavy equiptment (excavators',\n",
              " 'backhoes and tractors)',\n",
              " 'laptops',\n",
              " 'food production',\n",
              " 'auto parts',\n",
              " 'sports retail',\n",
              " 'biotech investing',\n",
              " 'life insurance ',\n",
              " 'self-storage',\n",
              " 'auto dealerships',\n",
              " 'paper',\n",
              " 'aviation',\n",
              " 'steel ',\n",
              " 'microchips',\n",
              " 'self storage',\n",
              " 'wind energy',\n",
              " 'security equipment',\n",
              " 'cigarettes',\n",
              " 'telecom/investments',\n",
              " 'electronic componants',\n",
              " 'food products',\n",
              " 'home appliances',\n",
              " 'lumber',\n",
              " 'television',\n",
              " 'beer and food distribution',\n",
              " 'telecom',\n",
              " 'security',\n",
              " 'data processing',\n",
              " 'diapers',\n",
              " 'dairy',\n",
              " 'petrochemicals and textiles',\n",
              " 'salsa',\n",
              " 'satallite communications',\n",
              " 'risk management',\n",
              " 'supply chain',\n",
              " 'biopharmaceutical',\n",
              " 'elevators',\n",
              " 'escalators',\n",
              " 'engineering',\n",
              " 'petroleum',\n",
              " 'drug stores',\n",
              " 'security and surveillance technology',\n",
              " 'wine and spirits',\n",
              " 'cloud computing',\n",
              " 'oil/investments',\n",
              " 'mutual funds',\n",
              " 'consumer retail',\n",
              " 'manufacturing (agriculture',\n",
              " 'electronics)',\n",
              " 'animal feed',\n",
              " 'automobiles',\n",
              " 'natural flavors',\n",
              " 'hospitality and food service',\n",
              " 'healthcare management',\n",
              " 'airline',\n",
              " 'rice trading',\n",
              " 'infrastructure',\n",
              " 'dairy products',\n",
              " 'restaurant',\n",
              " 'industrial software',\n",
              " 'seeds',\n",
              " 'hair care products/tequila',\n",
              " 'financial services and computers',\n",
              " 'sports equipment',\n",
              " 'frozen foods',\n",
              " 'footwear',\n",
              " 'metals and mining',\n",
              " 'kitchen appliances',\n",
              " 'real estate (shopping malls)',\n",
              " 'energy (coal',\n",
              " 'oil and gas)',\n",
              " 'hair care products ',\n",
              " 'shoe retail',\n",
              " 'iron and steel',\n",
              " 'video technology',\n",
              " 'wireless products',\n",
              " 'heating systems',\n",
              " 'internet companies',\n",
              " 'real estate and metals',\n",
              " 'mobile phones',\n",
              " 'music',\n",
              " 'fashion/oil',\n",
              " 'waste management',\n",
              " 'GPS technology',\n",
              " 'soy sauce',\n",
              " 'gambling software',\n",
              " 'airport',\n",
              " 'mortgages',\n",
              " 'agriculteral',\n",
              " 'IT Consulting',\n",
              " 'bicycles',\n",
              " 'soft drinks',\n",
              " 'beauty and health care products',\n",
              " 'nutrition supplements',\n",
              " 'oil and natural gas',\n",
              " 'credit cards',\n",
              " 'palm oil',\n",
              " 'port',\n",
              " 'mortgage banking',\n",
              " 'Banking',\n",
              " 'aplliances',\n",
              " 'domestic appliances',\n",
              " 'venture capital',\n",
              " 'oil services',\n",
              " 'bank',\n",
              " 'construction,banking',\n",
              " 'hair care',\n",
              " 'food retail',\n",
              " 'solar energy',\n",
              " 'oleochemicals and palm oil',\n",
              " 'animation',\n",
              " 'food manufacturing',\n",
              " 'oil exploration equipment',\n",
              " 'fertilizers',\n",
              " 'internet domain and web hosting',\n",
              " 'airports',\n",
              " 'invetsments',\n",
              " 'hotels and supermarkets',\n",
              " 'logistics',\n",
              " 'ethanol',\n",
              " 'property',\n",
              " 'textile manufacturing',\n",
              " 'beverages and food',\n",
              " 'leather',\n",
              " 'banking and real estate',\n",
              " 'trade fairs',\n",
              " 'flavorings',\n",
              " 'healthcare IT',\n",
              " 'airplanes',\n",
              " 'medical equipment',\n",
              " 'shipbuilding',\n",
              " 'plantations',\n",
              " 'printing',\n",
              " 'flooring',\n",
              " 'architectural products',\n",
              " 'heavy equipment',\n",
              " 'air compressors',\n",
              " 'gambing',\n",
              " 'apparel retail',\n",
              " 'bottled water',\n",
              " 'gas pipeline',\n",
              " 'commodities',\n",
              " 'forestry and mining',\n",
              " 'investment mangagment',\n",
              " 'home building materials',\n",
              " 'social network',\n",
              " 'locomotive manufacturing',\n",
              " 'landscape architecture',\n",
              " 'truck stop',\n",
              " 'electonics',\n",
              " 'insurancei',\n",
              " 'power',\n",
              " 'information services',\n",
              " 'leveraged buyout',\n",
              " 'agriculture',\n",
              " 'meat products',\n",
              " 'financial information',\n",
              " 'plastics',\n",
              " 'yogurt',\n",
              " 'auto repair',\n",
              " 'winter jackets',\n",
              " 'antennas',\n",
              " 'mass transit',\n",
              " 'snack foods',\n",
              " 'oil refining',\n",
              " 'home furnishings',\n",
              " 'cameras',\n",
              " 'confectionary',\n",
              " 'sewing machines',\n",
              " 'aigriculture',\n",
              " 'automotives',\n",
              " 'online gaming',\n",
              " 'broadcasting',\n",
              " 'paint',\n",
              " 'diversified investments',\n",
              " 'automobile dealers',\n",
              " 'power engineering',\n",
              " 'sugar',\n",
              " 'flour',\n",
              " 'braking systems',\n",
              " 'auto glass',\n",
              " 'tire manufacturing',\n",
              " 'commodity trading',\n",
              " 'automotive',\n",
              " 'laboratory services',\n",
              " 'iron',\n",
              " 'poultry',\n",
              " 'business centers',\n",
              " 'electricity',\n",
              " 'mettallurgy',\n",
              " 'diamond jewelry',\n",
              " 'education',\n",
              " 'measuring instruments',\n",
              " 'ports',\n",
              " 'boats',\n",
              " 'industrial equipment',\n",
              " 'port logistics',\n",
              " 'watch retail',\n",
              " 'polymers',\n",
              " 'pipes',\n",
              " 'laundry soap',\n",
              " 'plastic',\n",
              " 'meat processing',\n",
              " 'tractors',\n",
              " 'oilfield equipment',\n",
              " 'finance ',\n",
              " 'dental implants',\n",
              " 'milk',\n",
              " 'cranes',\n",
              " 'electonics components',\n",
              " 'linear actuators',\n",
              " 'sportswear',\n",
              " 'auto retail',\n",
              " 'hostile takeovers',\n",
              " 'film',\n",
              " 'jewelry',\n",
              " 'food sweeteners']"
            ]
          },
          "metadata": {},
          "execution_count": 159
        }
      ]
    },
    {
      "cell_type": "code",
      "source": [
        "df[\"sector\"] = df[\"sector\"].replace(['aigriculture', 'agricultural', 'agribusiness'], 'agriculture')"
      ],
      "metadata": {
        "id": "p2-a1wBQIWs3"
      },
      "execution_count": null,
      "outputs": []
    },
    {
      "cell_type": "code",
      "source": [
        "df[\"sector\"] = df[\"sector\"].replace([' software', ' Software'], 'software')"
      ],
      "metadata": {
        "id": "l-XeWiwsIy0H"
      },
      "execution_count": null,
      "outputs": []
    },
    {
      "cell_type": "code",
      "source": [
        "df[\"sector\"] = df[\"sector\"].replace(['  Oil refining', ' Oil refining'], 'oil refining')"
      ],
      "metadata": {
        "id": "dgiIXxcTI9Z8"
      },
      "execution_count": null,
      "outputs": []
    },
    {
      "cell_type": "code",
      "source": [
        "df[\"sector\"] = df[\"sector\"].replace([' retail'], 'retail')"
      ],
      "metadata": {
        "id": "F7Xjp9YTJDFb"
      },
      "execution_count": null,
      "outputs": []
    },
    {
      "cell_type": "code",
      "source": [
        "df[\"sector\"] = df[\"sector\"].replace([' finance', ' Finance'], 'finance')"
      ],
      "metadata": {
        "id": "tnMVplQ2JKQl"
      },
      "execution_count": null,
      "outputs": []
    },
    {
      "cell_type": "code",
      "source": [
        "df[\"sector\"] = df[\"sector\"].replace([' Communications'], 'communications')"
      ],
      "metadata": {
        "id": "vadqANzyJdYV"
      },
      "execution_count": null,
      "outputs": []
    },
    {
      "cell_type": "code",
      "source": [
        "df[\"sector\"] = df[\"sector\"].replace([' technology'], 'technology')"
      ],
      "metadata": {
        "id": "HaDgx9N2Jmru"
      },
      "execution_count": null,
      "outputs": []
    },
    {
      "cell_type": "code",
      "source": [
        "df[\"sector\"] = df[\"sector\"].replace(['commodities (sugar'], 'commodities')"
      ],
      "metadata": {
        "id": "arZrvf9WJtUt"
      },
      "execution_count": null,
      "outputs": []
    },
    {
      "cell_type": "code",
      "source": [
        "unique_type = list(df[\"company_type\"].str.split(\", \", expand=True).stack().unique())\n",
        "unique_type"
      ],
      "metadata": {
        "colab": {
          "base_uri": "https://localhost:8080/"
        },
        "id": "uONf2WNaEiPq",
        "outputId": "1f8abb20-bb4e-4b2f-93c5-58208bfeb3e3"
      },
      "execution_count": null,
      "outputs": [
        {
          "output_type": "execute_result",
          "data": {
            "text/plain": [
              "['new',\n",
              " 'privatization',\n",
              " ' new',\n",
              " 'aquired',\n",
              " ' acquired',\n",
              " 'acquired',\n",
              " 'new/aquired',\n",
              " 'new ',\n",
              " 'new division',\n",
              " 'merger',\n",
              " 'franchise',\n",
              " 'state owned enterprise',\n",
              " 'privitization',\n",
              " 'franchise rights',\n",
              " 'subsidiary']"
            ]
          },
          "metadata": {},
          "execution_count": 168
        }
      ]
    },
    {
      "cell_type": "code",
      "source": [
        "df[\"company_type\"] = df[\"company_type\"].replace([' new', 'new '], 'new')"
      ],
      "metadata": {
        "id": "jqvmBFxbEpK0"
      },
      "execution_count": null,
      "outputs": []
    },
    {
      "cell_type": "code",
      "source": [
        "df[\"company_type\"] = df[\"company_type\"].replace(['aquired', ' acquired'], 'acquired')"
      ],
      "metadata": {
        "id": "CZXsABz6J6YC"
      },
      "execution_count": null,
      "outputs": []
    },
    {
      "cell_type": "code",
      "source": [
        "df[\"company_type\"] = df[\"company_type\"].replace(['privitization'], 'privatization')"
      ],
      "metadata": {
        "id": "euAJjXEKKBA0"
      },
      "execution_count": null,
      "outputs": []
    },
    {
      "cell_type": "code",
      "source": [
        "df[\"company_type\"] = df[\"company_type\"].replace(['franchise rights'], 'franchise')"
      ],
      "metadata": {
        "id": "rzFZE3ebKGPk"
      },
      "execution_count": null,
      "outputs": []
    },
    {
      "cell_type": "code",
      "source": [
        "unique_industry = list(df[\"industry\"].str.split(\", \", expand=True).stack().unique())\n",
        "unique_industry"
      ],
      "metadata": {
        "colab": {
          "base_uri": "https://localhost:8080/"
        },
        "id": "5Dh3TfWmmjnO",
        "outputId": "59abc06a-82b0-4511-e7d4-a6f64bb937a1"
      },
      "execution_count": null,
      "outputs": [
        {
          "output_type": "execute_result",
          "data": {
            "text/plain": [
              "['Technology-Computer',\n",
              " 'Consumer',\n",
              " 'Media',\n",
              " 'Retail',\n",
              " 'Restaurant',\n",
              " 'Real Estate',\n",
              " 'Hedge funds',\n",
              " 'Money Management',\n",
              " 'Diversified financial',\n",
              " 'Constrution',\n",
              " 'Technology-Medical',\n",
              " 'Non-consumer industrial',\n",
              " 'Energy',\n",
              " 'Mining and metals',\n",
              " 'Private equity/leveraged buyout',\n",
              " 'Other',\n",
              " 'Venture Capital']"
            ]
          },
          "metadata": {},
          "execution_count": 173
        }
      ]
    },
    {
      "cell_type": "code",
      "source": [
        "unique_country = list(df[\"country\"].str.split(\", \", expand=True).stack().unique())\n",
        "unique_country"
      ],
      "metadata": {
        "colab": {
          "base_uri": "https://localhost:8080/"
        },
        "id": "nUYg0X9qMkq9",
        "outputId": "efd0e25b-2eda-482a-f8a2-fd421b86004a"
      },
      "execution_count": null,
      "outputs": [
        {
          "output_type": "execute_result",
          "data": {
            "text/plain": [
              "['United States',\n",
              " 'Mexico',\n",
              " 'Spain',\n",
              " 'Hong Kong',\n",
              " 'Taiwan',\n",
              " 'Saudi Arabia',\n",
              " 'Japan',\n",
              " 'Germany',\n",
              " 'France',\n",
              " 'Sweden',\n",
              " 'Canada',\n",
              " 'Malaysia',\n",
              " 'Italy',\n",
              " 'Singapore',\n",
              " 'Nigeria',\n",
              " 'Switzerland',\n",
              " 'Brazil',\n",
              " 'Russia',\n",
              " 'India',\n",
              " 'United Kingdom',\n",
              " 'Australia',\n",
              " 'Thailand',\n",
              " 'Kuwait',\n",
              " 'Turkey',\n",
              " 'Chile',\n",
              " 'Venezuela',\n",
              " 'China',\n",
              " 'Argentina',\n",
              " 'Colombia',\n",
              " 'Cyprus',\n",
              " 'Greece',\n",
              " 'South Africa',\n",
              " 'Ireland',\n",
              " 'Philippines',\n",
              " 'South Korea',\n",
              " 'Czech Republic',\n",
              " 'Israel',\n",
              " 'Netherlands',\n",
              " 'Denmark',\n",
              " 'Lebanon',\n",
              " 'Austria',\n",
              " 'Indonesia',\n",
              " 'New Zealand',\n",
              " 'Egypt',\n",
              " 'Portugal',\n",
              " 'United Arab Emirates',\n",
              " 'Georgia',\n",
              " 'Norway',\n",
              " 'Belgium',\n",
              " 'Angola',\n",
              " 'Swaziland',\n",
              " 'Poland',\n",
              " 'Finland',\n",
              " 'Algeria',\n",
              " 'Ukraine',\n",
              " 'Morocco',\n",
              " 'Peru',\n",
              " 'Guernsey',\n",
              " 'Kazakhstan',\n",
              " 'Macau',\n",
              " 'Vietnam',\n",
              " 'Monaco',\n",
              " 'Romania',\n",
              " 'Oman',\n",
              " 'Nepal',\n",
              " 'Uganda',\n",
              " 'Lithuania',\n",
              " 'Tanzania']"
            ]
          },
          "metadata": {},
          "execution_count": 174
        }
      ]
    },
    {
      "cell_type": "code",
      "source": [
        "df.columns"
      ],
      "metadata": {
        "colab": {
          "base_uri": "https://localhost:8080/"
        },
        "id": "TSqNHN4dLRNI",
        "outputId": "dc981932-39a9-496e-f63a-6054d6a7def0"
      },
      "execution_count": null,
      "outputs": [
        {
          "output_type": "execute_result",
          "data": {
            "text/plain": [
              "Index(['name', 'rank', 'year', 'company_founded', 'company_name',\n",
              "       'company_relationship', 'sector', 'company_type', 'age', 'gender',\n",
              "       'country', 'region', 'wealth_type', 'wealthworth_inbillions',\n",
              "       'wealth_how_category', 'industry', 'wealth_how_inherited'],\n",
              "      dtype='object')"
            ]
          },
          "metadata": {},
          "execution_count": 175
        }
      ]
    },
    {
      "cell_type": "code",
      "source": [
        "df['age']= abs(df['age'])"
      ],
      "metadata": {
        "id": "4vEDPhO7LFWx"
      },
      "execution_count": null,
      "outputs": []
    },
    {
      "cell_type": "code",
      "source": [
        "print('Number of duplicate values are : ', df.duplicated().sum())"
      ],
      "metadata": {
        "colab": {
          "base_uri": "https://localhost:8080/"
        },
        "id": "loMCxV31LuVh",
        "outputId": "b5c04621-48ca-4580-fe71-027b4f76b463"
      },
      "execution_count": null,
      "outputs": [
        {
          "output_type": "stream",
          "name": "stdout",
          "text": [
            "Number of duplicate values are :  0\n"
          ]
        }
      ]
    },
    {
      "cell_type": "code",
      "source": [
        "df.loc[8]"
      ],
      "metadata": {
        "colab": {
          "base_uri": "https://localhost:8080/"
        },
        "id": "Lqkbh-ZhMHWD",
        "outputId": "c60c9b87-66fe-4bf5-eb5b-d2ebe8721dcf"
      },
      "execution_count": null,
      "outputs": [
        {
          "output_type": "execute_result",
          "data": {
            "text/plain": [
              "name                           Amancio Ortega\n",
              "rank                                        3\n",
              "year                                     2014\n",
              "company_founded                        1975.0\n",
              "company_name                             Zara\n",
              "company_relationship                  founder\n",
              "sector                                Fashion\n",
              "company_type                              new\n",
              "age                                      77.0\n",
              "gender                                   male\n",
              "country                                 Spain\n",
              "region                                 Europe\n",
              "wealth_type               founder non-finance\n",
              "wealthworth_inbillions                   64.0\n",
              "wealth_how_category        Non-Traded Sectors\n",
              "industry                   Retail, Restaurant\n",
              "wealth_how_inherited            not inherited\n",
              "Name: 8, dtype: object"
            ]
          },
          "metadata": {},
          "execution_count": 178
        }
      ]
    },
    {
      "cell_type": "code",
      "source": [
        "df.dtypes"
      ],
      "metadata": {
        "colab": {
          "base_uri": "https://localhost:8080/"
        },
        "id": "zZ2lfPmBMTLJ",
        "outputId": "1b155acf-717c-47d9-dbc1-f0c8926f42f4"
      },
      "execution_count": null,
      "outputs": [
        {
          "output_type": "execute_result",
          "data": {
            "text/plain": [
              "name                       object\n",
              "rank                        int64\n",
              "year                        int64\n",
              "company_founded           float64\n",
              "company_name               object\n",
              "company_relationship       object\n",
              "sector                     object\n",
              "company_type               object\n",
              "age                       float64\n",
              "gender                     object\n",
              "country                    object\n",
              "region                     object\n",
              "wealth_type                object\n",
              "wealthworth_inbillions    float64\n",
              "wealth_how_category        object\n",
              "industry                   object\n",
              "wealth_how_inherited       object\n",
              "dtype: object"
            ]
          },
          "metadata": {},
          "execution_count": 179
        }
      ]
    },
    {
      "cell_type": "code",
      "source": [
        "df.describe()"
      ],
      "metadata": {
        "colab": {
          "base_uri": "https://localhost:8080/",
          "height": 300
        },
        "id": "HmYoivjRM5F-",
        "outputId": "e3cacbdd-e93c-4fb3-f128-33389168ab61"
      },
      "execution_count": null,
      "outputs": [
        {
          "output_type": "execute_result",
          "data": {
            "text/plain": [
              "              rank         year  company_founded          age  \\\n",
              "count  2132.000000  2132.000000      2132.000000  2132.000000   \n",
              "mean    638.821295  2009.773921      1957.765009    62.410413   \n",
              "std     476.580580     6.798467        41.135235    13.241962   \n",
              "min       1.000000  1996.000000      1610.000000     7.000000   \n",
              "25%     227.000000  2001.000000      1942.000000    53.000000   \n",
              "50%     490.000000  2014.000000      1968.000000    62.000000   \n",
              "75%    1046.000000  2014.000000      1987.000000    72.000000   \n",
              "max    1565.000000  2014.000000      2012.000000    98.000000   \n",
              "\n",
              "       wealthworth_inbillions  \n",
              "count             2132.000000  \n",
              "mean                 3.775281  \n",
              "std                  5.503452  \n",
              "min                  1.000000  \n",
              "25%                  1.400000  \n",
              "50%                  2.100000  \n",
              "75%                  3.700000  \n",
              "max                 76.000000  "
            ],
            "text/html": [
              "\n",
              "  <div id=\"df-f5777d2f-01b4-4bd4-a466-4de1834ab4ef\">\n",
              "    <div class=\"colab-df-container\">\n",
              "      <div>\n",
              "<style scoped>\n",
              "    .dataframe tbody tr th:only-of-type {\n",
              "        vertical-align: middle;\n",
              "    }\n",
              "\n",
              "    .dataframe tbody tr th {\n",
              "        vertical-align: top;\n",
              "    }\n",
              "\n",
              "    .dataframe thead th {\n",
              "        text-align: right;\n",
              "    }\n",
              "</style>\n",
              "<table border=\"1\" class=\"dataframe\">\n",
              "  <thead>\n",
              "    <tr style=\"text-align: right;\">\n",
              "      <th></th>\n",
              "      <th>rank</th>\n",
              "      <th>year</th>\n",
              "      <th>company_founded</th>\n",
              "      <th>age</th>\n",
              "      <th>wealthworth_inbillions</th>\n",
              "    </tr>\n",
              "  </thead>\n",
              "  <tbody>\n",
              "    <tr>\n",
              "      <th>count</th>\n",
              "      <td>2132.000000</td>\n",
              "      <td>2132.000000</td>\n",
              "      <td>2132.000000</td>\n",
              "      <td>2132.000000</td>\n",
              "      <td>2132.000000</td>\n",
              "    </tr>\n",
              "    <tr>\n",
              "      <th>mean</th>\n",
              "      <td>638.821295</td>\n",
              "      <td>2009.773921</td>\n",
              "      <td>1957.765009</td>\n",
              "      <td>62.410413</td>\n",
              "      <td>3.775281</td>\n",
              "    </tr>\n",
              "    <tr>\n",
              "      <th>std</th>\n",
              "      <td>476.580580</td>\n",
              "      <td>6.798467</td>\n",
              "      <td>41.135235</td>\n",
              "      <td>13.241962</td>\n",
              "      <td>5.503452</td>\n",
              "    </tr>\n",
              "    <tr>\n",
              "      <th>min</th>\n",
              "      <td>1.000000</td>\n",
              "      <td>1996.000000</td>\n",
              "      <td>1610.000000</td>\n",
              "      <td>7.000000</td>\n",
              "      <td>1.000000</td>\n",
              "    </tr>\n",
              "    <tr>\n",
              "      <th>25%</th>\n",
              "      <td>227.000000</td>\n",
              "      <td>2001.000000</td>\n",
              "      <td>1942.000000</td>\n",
              "      <td>53.000000</td>\n",
              "      <td>1.400000</td>\n",
              "    </tr>\n",
              "    <tr>\n",
              "      <th>50%</th>\n",
              "      <td>490.000000</td>\n",
              "      <td>2014.000000</td>\n",
              "      <td>1968.000000</td>\n",
              "      <td>62.000000</td>\n",
              "      <td>2.100000</td>\n",
              "    </tr>\n",
              "    <tr>\n",
              "      <th>75%</th>\n",
              "      <td>1046.000000</td>\n",
              "      <td>2014.000000</td>\n",
              "      <td>1987.000000</td>\n",
              "      <td>72.000000</td>\n",
              "      <td>3.700000</td>\n",
              "    </tr>\n",
              "    <tr>\n",
              "      <th>max</th>\n",
              "      <td>1565.000000</td>\n",
              "      <td>2014.000000</td>\n",
              "      <td>2012.000000</td>\n",
              "      <td>98.000000</td>\n",
              "      <td>76.000000</td>\n",
              "    </tr>\n",
              "  </tbody>\n",
              "</table>\n",
              "</div>\n",
              "      <button class=\"colab-df-convert\" onclick=\"convertToInteractive('df-f5777d2f-01b4-4bd4-a466-4de1834ab4ef')\"\n",
              "              title=\"Convert this dataframe to an interactive table.\"\n",
              "              style=\"display:none;\">\n",
              "        \n",
              "  <svg xmlns=\"http://www.w3.org/2000/svg\" height=\"24px\"viewBox=\"0 0 24 24\"\n",
              "       width=\"24px\">\n",
              "    <path d=\"M0 0h24v24H0V0z\" fill=\"none\"/>\n",
              "    <path d=\"M18.56 5.44l.94 2.06.94-2.06 2.06-.94-2.06-.94-.94-2.06-.94 2.06-2.06.94zm-11 1L8.5 8.5l.94-2.06 2.06-.94-2.06-.94L8.5 2.5l-.94 2.06-2.06.94zm10 10l.94 2.06.94-2.06 2.06-.94-2.06-.94-.94-2.06-.94 2.06-2.06.94z\"/><path d=\"M17.41 7.96l-1.37-1.37c-.4-.4-.92-.59-1.43-.59-.52 0-1.04.2-1.43.59L10.3 9.45l-7.72 7.72c-.78.78-.78 2.05 0 2.83L4 21.41c.39.39.9.59 1.41.59.51 0 1.02-.2 1.41-.59l7.78-7.78 2.81-2.81c.8-.78.8-2.07 0-2.86zM5.41 20L4 18.59l7.72-7.72 1.47 1.35L5.41 20z\"/>\n",
              "  </svg>\n",
              "      </button>\n",
              "      \n",
              "  <style>\n",
              "    .colab-df-container {\n",
              "      display:flex;\n",
              "      flex-wrap:wrap;\n",
              "      gap: 12px;\n",
              "    }\n",
              "\n",
              "    .colab-df-convert {\n",
              "      background-color: #E8F0FE;\n",
              "      border: none;\n",
              "      border-radius: 50%;\n",
              "      cursor: pointer;\n",
              "      display: none;\n",
              "      fill: #1967D2;\n",
              "      height: 32px;\n",
              "      padding: 0 0 0 0;\n",
              "      width: 32px;\n",
              "    }\n",
              "\n",
              "    .colab-df-convert:hover {\n",
              "      background-color: #E2EBFA;\n",
              "      box-shadow: 0px 1px 2px rgba(60, 64, 67, 0.3), 0px 1px 3px 1px rgba(60, 64, 67, 0.15);\n",
              "      fill: #174EA6;\n",
              "    }\n",
              "\n",
              "    [theme=dark] .colab-df-convert {\n",
              "      background-color: #3B4455;\n",
              "      fill: #D2E3FC;\n",
              "    }\n",
              "\n",
              "    [theme=dark] .colab-df-convert:hover {\n",
              "      background-color: #434B5C;\n",
              "      box-shadow: 0px 1px 3px 1px rgba(0, 0, 0, 0.15);\n",
              "      filter: drop-shadow(0px 1px 2px rgba(0, 0, 0, 0.3));\n",
              "      fill: #FFFFFF;\n",
              "    }\n",
              "  </style>\n",
              "\n",
              "      <script>\n",
              "        const buttonEl =\n",
              "          document.querySelector('#df-f5777d2f-01b4-4bd4-a466-4de1834ab4ef button.colab-df-convert');\n",
              "        buttonEl.style.display =\n",
              "          google.colab.kernel.accessAllowed ? 'block' : 'none';\n",
              "\n",
              "        async function convertToInteractive(key) {\n",
              "          const element = document.querySelector('#df-f5777d2f-01b4-4bd4-a466-4de1834ab4ef');\n",
              "          const dataTable =\n",
              "            await google.colab.kernel.invokeFunction('convertToInteractive',\n",
              "                                                     [key], {});\n",
              "          if (!dataTable) return;\n",
              "\n",
              "          const docLinkHtml = 'Like what you see? Visit the ' +\n",
              "            '<a target=\"_blank\" href=https://colab.research.google.com/notebooks/data_table.ipynb>data table notebook</a>'\n",
              "            + ' to learn more about interactive tables.';\n",
              "          element.innerHTML = '';\n",
              "          dataTable['output_type'] = 'display_data';\n",
              "          await google.colab.output.renderOutput(dataTable, element);\n",
              "          const docLink = document.createElement('div');\n",
              "          docLink.innerHTML = docLinkHtml;\n",
              "          element.appendChild(docLink);\n",
              "        }\n",
              "      </script>\n",
              "    </div>\n",
              "  </div>\n",
              "  "
            ]
          },
          "metadata": {},
          "execution_count": 180
        }
      ]
    },
    {
      "cell_type": "code",
      "source": [
        "df.loc[df['age'] == 7]"
      ],
      "metadata": {
        "colab": {
          "base_uri": "https://localhost:8080/",
          "height": 142
        },
        "id": "knve7Un4OUYi",
        "outputId": "2f021733-a596-404e-800d-34f556268c81"
      },
      "execution_count": null,
      "outputs": [
        {
          "output_type": "execute_result",
          "data": {
            "text/plain": [
              "                 name  rank  year  company_founded           company_name  \\\n",
              "1065  Kenichi Mabuchi   354  1996           1946.0  Mabuchi Motor Company   \n",
              "\n",
              "     company_relationship           sector company_type  age gender country  \\\n",
              "1065              founder  electric motors          new  7.0   male   Japan   \n",
              "\n",
              "         region          wealth_type  wealthworth_inbillions  \\\n",
              "1065  East Asia  founder non-finance                     1.1   \n",
              "\n",
              "     wealth_how_category                 industry wealth_how_inherited  \n",
              "1065      Traded Sectors  Non-consumer industrial        not inherited  "
            ],
            "text/html": [
              "\n",
              "  <div id=\"df-4df82696-a0bc-4ea4-ab39-447a668e7d69\">\n",
              "    <div class=\"colab-df-container\">\n",
              "      <div>\n",
              "<style scoped>\n",
              "    .dataframe tbody tr th:only-of-type {\n",
              "        vertical-align: middle;\n",
              "    }\n",
              "\n",
              "    .dataframe tbody tr th {\n",
              "        vertical-align: top;\n",
              "    }\n",
              "\n",
              "    .dataframe thead th {\n",
              "        text-align: right;\n",
              "    }\n",
              "</style>\n",
              "<table border=\"1\" class=\"dataframe\">\n",
              "  <thead>\n",
              "    <tr style=\"text-align: right;\">\n",
              "      <th></th>\n",
              "      <th>name</th>\n",
              "      <th>rank</th>\n",
              "      <th>year</th>\n",
              "      <th>company_founded</th>\n",
              "      <th>company_name</th>\n",
              "      <th>company_relationship</th>\n",
              "      <th>sector</th>\n",
              "      <th>company_type</th>\n",
              "      <th>age</th>\n",
              "      <th>gender</th>\n",
              "      <th>country</th>\n",
              "      <th>region</th>\n",
              "      <th>wealth_type</th>\n",
              "      <th>wealthworth_inbillions</th>\n",
              "      <th>wealth_how_category</th>\n",
              "      <th>industry</th>\n",
              "      <th>wealth_how_inherited</th>\n",
              "    </tr>\n",
              "  </thead>\n",
              "  <tbody>\n",
              "    <tr>\n",
              "      <th>1065</th>\n",
              "      <td>Kenichi Mabuchi</td>\n",
              "      <td>354</td>\n",
              "      <td>1996</td>\n",
              "      <td>1946.0</td>\n",
              "      <td>Mabuchi Motor Company</td>\n",
              "      <td>founder</td>\n",
              "      <td>electric motors</td>\n",
              "      <td>new</td>\n",
              "      <td>7.0</td>\n",
              "      <td>male</td>\n",
              "      <td>Japan</td>\n",
              "      <td>East Asia</td>\n",
              "      <td>founder non-finance</td>\n",
              "      <td>1.1</td>\n",
              "      <td>Traded Sectors</td>\n",
              "      <td>Non-consumer industrial</td>\n",
              "      <td>not inherited</td>\n",
              "    </tr>\n",
              "  </tbody>\n",
              "</table>\n",
              "</div>\n",
              "      <button class=\"colab-df-convert\" onclick=\"convertToInteractive('df-4df82696-a0bc-4ea4-ab39-447a668e7d69')\"\n",
              "              title=\"Convert this dataframe to an interactive table.\"\n",
              "              style=\"display:none;\">\n",
              "        \n",
              "  <svg xmlns=\"http://www.w3.org/2000/svg\" height=\"24px\"viewBox=\"0 0 24 24\"\n",
              "       width=\"24px\">\n",
              "    <path d=\"M0 0h24v24H0V0z\" fill=\"none\"/>\n",
              "    <path d=\"M18.56 5.44l.94 2.06.94-2.06 2.06-.94-2.06-.94-.94-2.06-.94 2.06-2.06.94zm-11 1L8.5 8.5l.94-2.06 2.06-.94-2.06-.94L8.5 2.5l-.94 2.06-2.06.94zm10 10l.94 2.06.94-2.06 2.06-.94-2.06-.94-.94-2.06-.94 2.06-2.06.94z\"/><path d=\"M17.41 7.96l-1.37-1.37c-.4-.4-.92-.59-1.43-.59-.52 0-1.04.2-1.43.59L10.3 9.45l-7.72 7.72c-.78.78-.78 2.05 0 2.83L4 21.41c.39.39.9.59 1.41.59.51 0 1.02-.2 1.41-.59l7.78-7.78 2.81-2.81c.8-.78.8-2.07 0-2.86zM5.41 20L4 18.59l7.72-7.72 1.47 1.35L5.41 20z\"/>\n",
              "  </svg>\n",
              "      </button>\n",
              "      \n",
              "  <style>\n",
              "    .colab-df-container {\n",
              "      display:flex;\n",
              "      flex-wrap:wrap;\n",
              "      gap: 12px;\n",
              "    }\n",
              "\n",
              "    .colab-df-convert {\n",
              "      background-color: #E8F0FE;\n",
              "      border: none;\n",
              "      border-radius: 50%;\n",
              "      cursor: pointer;\n",
              "      display: none;\n",
              "      fill: #1967D2;\n",
              "      height: 32px;\n",
              "      padding: 0 0 0 0;\n",
              "      width: 32px;\n",
              "    }\n",
              "\n",
              "    .colab-df-convert:hover {\n",
              "      background-color: #E2EBFA;\n",
              "      box-shadow: 0px 1px 2px rgba(60, 64, 67, 0.3), 0px 1px 3px 1px rgba(60, 64, 67, 0.15);\n",
              "      fill: #174EA6;\n",
              "    }\n",
              "\n",
              "    [theme=dark] .colab-df-convert {\n",
              "      background-color: #3B4455;\n",
              "      fill: #D2E3FC;\n",
              "    }\n",
              "\n",
              "    [theme=dark] .colab-df-convert:hover {\n",
              "      background-color: #434B5C;\n",
              "      box-shadow: 0px 1px 3px 1px rgba(0, 0, 0, 0.15);\n",
              "      filter: drop-shadow(0px 1px 2px rgba(0, 0, 0, 0.3));\n",
              "      fill: #FFFFFF;\n",
              "    }\n",
              "  </style>\n",
              "\n",
              "      <script>\n",
              "        const buttonEl =\n",
              "          document.querySelector('#df-4df82696-a0bc-4ea4-ab39-447a668e7d69 button.colab-df-convert');\n",
              "        buttonEl.style.display =\n",
              "          google.colab.kernel.accessAllowed ? 'block' : 'none';\n",
              "\n",
              "        async function convertToInteractive(key) {\n",
              "          const element = document.querySelector('#df-4df82696-a0bc-4ea4-ab39-447a668e7d69');\n",
              "          const dataTable =\n",
              "            await google.colab.kernel.invokeFunction('convertToInteractive',\n",
              "                                                     [key], {});\n",
              "          if (!dataTable) return;\n",
              "\n",
              "          const docLinkHtml = 'Like what you see? Visit the ' +\n",
              "            '<a target=\"_blank\" href=https://colab.research.google.com/notebooks/data_table.ipynb>data table notebook</a>'\n",
              "            + ' to learn more about interactive tables.';\n",
              "          element.innerHTML = '';\n",
              "          dataTable['output_type'] = 'display_data';\n",
              "          await google.colab.output.renderOutput(dataTable, element);\n",
              "          const docLink = document.createElement('div');\n",
              "          docLink.innerHTML = docLinkHtml;\n",
              "          element.appendChild(docLink);\n",
              "        }\n",
              "      </script>\n",
              "    </div>\n",
              "  </div>\n",
              "  "
            ]
          },
          "metadata": {},
          "execution_count": 181
        }
      ]
    },
    {
      "cell_type": "code",
      "source": [
        "#deleting outliers\n",
        "df = df.drop(labels=1065, axis=0)"
      ],
      "metadata": {
        "id": "1KN26r5QOtQx"
      },
      "execution_count": null,
      "outputs": []
    },
    {
      "cell_type": "code",
      "source": [
        "df.describe()"
      ],
      "metadata": {
        "colab": {
          "base_uri": "https://localhost:8080/",
          "height": 300
        },
        "id": "NQY4R5fJOw7L",
        "outputId": "88bc6791-f5a3-4169-e1af-56802c451d49"
      },
      "execution_count": null,
      "outputs": [
        {
          "output_type": "execute_result",
          "data": {
            "text/plain": [
              "              rank         year  company_founded          age  \\\n",
              "count  2131.000000  2131.000000       2131.00000  2131.000000   \n",
              "mean    638.954951  2009.780385       1957.77053    62.436415   \n",
              "std     476.652471     6.793508         41.14410    13.190517   \n",
              "min       1.000000  1996.000000       1610.00000    12.000000   \n",
              "25%     227.000000  2001.000000       1942.00000    53.000000   \n",
              "50%     490.000000  2014.000000       1968.00000    62.000000   \n",
              "75%    1046.000000  2014.000000       1987.00000    72.000000   \n",
              "max    1565.000000  2014.000000       2012.00000    98.000000   \n",
              "\n",
              "       wealthworth_inbillions  \n",
              "count             2131.000000  \n",
              "mean                 3.776537  \n",
              "std                  5.504438  \n",
              "min                  1.000000  \n",
              "25%                  1.400000  \n",
              "50%                  2.100000  \n",
              "75%                  3.700000  \n",
              "max                 76.000000  "
            ],
            "text/html": [
              "\n",
              "  <div id=\"df-fe6fec22-9e3b-4021-8ba7-73bd915ba50e\">\n",
              "    <div class=\"colab-df-container\">\n",
              "      <div>\n",
              "<style scoped>\n",
              "    .dataframe tbody tr th:only-of-type {\n",
              "        vertical-align: middle;\n",
              "    }\n",
              "\n",
              "    .dataframe tbody tr th {\n",
              "        vertical-align: top;\n",
              "    }\n",
              "\n",
              "    .dataframe thead th {\n",
              "        text-align: right;\n",
              "    }\n",
              "</style>\n",
              "<table border=\"1\" class=\"dataframe\">\n",
              "  <thead>\n",
              "    <tr style=\"text-align: right;\">\n",
              "      <th></th>\n",
              "      <th>rank</th>\n",
              "      <th>year</th>\n",
              "      <th>company_founded</th>\n",
              "      <th>age</th>\n",
              "      <th>wealthworth_inbillions</th>\n",
              "    </tr>\n",
              "  </thead>\n",
              "  <tbody>\n",
              "    <tr>\n",
              "      <th>count</th>\n",
              "      <td>2131.000000</td>\n",
              "      <td>2131.000000</td>\n",
              "      <td>2131.00000</td>\n",
              "      <td>2131.000000</td>\n",
              "      <td>2131.000000</td>\n",
              "    </tr>\n",
              "    <tr>\n",
              "      <th>mean</th>\n",
              "      <td>638.954951</td>\n",
              "      <td>2009.780385</td>\n",
              "      <td>1957.77053</td>\n",
              "      <td>62.436415</td>\n",
              "      <td>3.776537</td>\n",
              "    </tr>\n",
              "    <tr>\n",
              "      <th>std</th>\n",
              "      <td>476.652471</td>\n",
              "      <td>6.793508</td>\n",
              "      <td>41.14410</td>\n",
              "      <td>13.190517</td>\n",
              "      <td>5.504438</td>\n",
              "    </tr>\n",
              "    <tr>\n",
              "      <th>min</th>\n",
              "      <td>1.000000</td>\n",
              "      <td>1996.000000</td>\n",
              "      <td>1610.00000</td>\n",
              "      <td>12.000000</td>\n",
              "      <td>1.000000</td>\n",
              "    </tr>\n",
              "    <tr>\n",
              "      <th>25%</th>\n",
              "      <td>227.000000</td>\n",
              "      <td>2001.000000</td>\n",
              "      <td>1942.00000</td>\n",
              "      <td>53.000000</td>\n",
              "      <td>1.400000</td>\n",
              "    </tr>\n",
              "    <tr>\n",
              "      <th>50%</th>\n",
              "      <td>490.000000</td>\n",
              "      <td>2014.000000</td>\n",
              "      <td>1968.00000</td>\n",
              "      <td>62.000000</td>\n",
              "      <td>2.100000</td>\n",
              "    </tr>\n",
              "    <tr>\n",
              "      <th>75%</th>\n",
              "      <td>1046.000000</td>\n",
              "      <td>2014.000000</td>\n",
              "      <td>1987.00000</td>\n",
              "      <td>72.000000</td>\n",
              "      <td>3.700000</td>\n",
              "    </tr>\n",
              "    <tr>\n",
              "      <th>max</th>\n",
              "      <td>1565.000000</td>\n",
              "      <td>2014.000000</td>\n",
              "      <td>2012.00000</td>\n",
              "      <td>98.000000</td>\n",
              "      <td>76.000000</td>\n",
              "    </tr>\n",
              "  </tbody>\n",
              "</table>\n",
              "</div>\n",
              "      <button class=\"colab-df-convert\" onclick=\"convertToInteractive('df-fe6fec22-9e3b-4021-8ba7-73bd915ba50e')\"\n",
              "              title=\"Convert this dataframe to an interactive table.\"\n",
              "              style=\"display:none;\">\n",
              "        \n",
              "  <svg xmlns=\"http://www.w3.org/2000/svg\" height=\"24px\"viewBox=\"0 0 24 24\"\n",
              "       width=\"24px\">\n",
              "    <path d=\"M0 0h24v24H0V0z\" fill=\"none\"/>\n",
              "    <path d=\"M18.56 5.44l.94 2.06.94-2.06 2.06-.94-2.06-.94-.94-2.06-.94 2.06-2.06.94zm-11 1L8.5 8.5l.94-2.06 2.06-.94-2.06-.94L8.5 2.5l-.94 2.06-2.06.94zm10 10l.94 2.06.94-2.06 2.06-.94-2.06-.94-.94-2.06-.94 2.06-2.06.94z\"/><path d=\"M17.41 7.96l-1.37-1.37c-.4-.4-.92-.59-1.43-.59-.52 0-1.04.2-1.43.59L10.3 9.45l-7.72 7.72c-.78.78-.78 2.05 0 2.83L4 21.41c.39.39.9.59 1.41.59.51 0 1.02-.2 1.41-.59l7.78-7.78 2.81-2.81c.8-.78.8-2.07 0-2.86zM5.41 20L4 18.59l7.72-7.72 1.47 1.35L5.41 20z\"/>\n",
              "  </svg>\n",
              "      </button>\n",
              "      \n",
              "  <style>\n",
              "    .colab-df-container {\n",
              "      display:flex;\n",
              "      flex-wrap:wrap;\n",
              "      gap: 12px;\n",
              "    }\n",
              "\n",
              "    .colab-df-convert {\n",
              "      background-color: #E8F0FE;\n",
              "      border: none;\n",
              "      border-radius: 50%;\n",
              "      cursor: pointer;\n",
              "      display: none;\n",
              "      fill: #1967D2;\n",
              "      height: 32px;\n",
              "      padding: 0 0 0 0;\n",
              "      width: 32px;\n",
              "    }\n",
              "\n",
              "    .colab-df-convert:hover {\n",
              "      background-color: #E2EBFA;\n",
              "      box-shadow: 0px 1px 2px rgba(60, 64, 67, 0.3), 0px 1px 3px 1px rgba(60, 64, 67, 0.15);\n",
              "      fill: #174EA6;\n",
              "    }\n",
              "\n",
              "    [theme=dark] .colab-df-convert {\n",
              "      background-color: #3B4455;\n",
              "      fill: #D2E3FC;\n",
              "    }\n",
              "\n",
              "    [theme=dark] .colab-df-convert:hover {\n",
              "      background-color: #434B5C;\n",
              "      box-shadow: 0px 1px 3px 1px rgba(0, 0, 0, 0.15);\n",
              "      filter: drop-shadow(0px 1px 2px rgba(0, 0, 0, 0.3));\n",
              "      fill: #FFFFFF;\n",
              "    }\n",
              "  </style>\n",
              "\n",
              "      <script>\n",
              "        const buttonEl =\n",
              "          document.querySelector('#df-fe6fec22-9e3b-4021-8ba7-73bd915ba50e button.colab-df-convert');\n",
              "        buttonEl.style.display =\n",
              "          google.colab.kernel.accessAllowed ? 'block' : 'none';\n",
              "\n",
              "        async function convertToInteractive(key) {\n",
              "          const element = document.querySelector('#df-fe6fec22-9e3b-4021-8ba7-73bd915ba50e');\n",
              "          const dataTable =\n",
              "            await google.colab.kernel.invokeFunction('convertToInteractive',\n",
              "                                                     [key], {});\n",
              "          if (!dataTable) return;\n",
              "\n",
              "          const docLinkHtml = 'Like what you see? Visit the ' +\n",
              "            '<a target=\"_blank\" href=https://colab.research.google.com/notebooks/data_table.ipynb>data table notebook</a>'\n",
              "            + ' to learn more about interactive tables.';\n",
              "          element.innerHTML = '';\n",
              "          dataTable['output_type'] = 'display_data';\n",
              "          await google.colab.output.renderOutput(dataTable, element);\n",
              "          const docLink = document.createElement('div');\n",
              "          docLink.innerHTML = docLinkHtml;\n",
              "          element.appendChild(docLink);\n",
              "        }\n",
              "      </script>\n",
              "    </div>\n",
              "  </div>\n",
              "  "
            ]
          },
          "metadata": {},
          "execution_count": 183
        }
      ]
    },
    {
      "cell_type": "code",
      "source": [
        "#What are the top 10 countries with the highest number of billionaires?"
      ],
      "metadata": {
        "id": "sro7DuIKTkwo"
      },
      "execution_count": null,
      "outputs": []
    },
    {
      "cell_type": "code",
      "source": [
        "billionaires= df.groupby(\"country\")[\"name\"].count()\n",
        "print(billionaires)"
      ],
      "metadata": {
        "colab": {
          "base_uri": "https://localhost:8080/"
        },
        "id": "O-flBDMCUVJF",
        "outputId": "583176a0-3dc0-4f7c-f56c-2b5762035d17"
      },
      "execution_count": null,
      "outputs": [
        {
          "output_type": "stream",
          "name": "stdout",
          "text": [
            "country\n",
            "Algeria                   1\n",
            "Angola                    1\n",
            "Argentina                 6\n",
            "Australia                30\n",
            "Austria                   9\n",
            "                       ... \n",
            "United Arab Emirates      1\n",
            "United Kingdom           50\n",
            "United States           777\n",
            "Venezuela                 7\n",
            "Vietnam                   1\n",
            "Name: name, Length: 68, dtype: int64\n"
          ]
        }
      ]
    },
    {
      "cell_type": "code",
      "source": [
        "data=df['country'].value_counts().head(10)\n",
        "\n",
        "lenth=range(len(data))\n",
        "plt.figure(figsize=(10,6))\n",
        "plt.bar(data.index,data.values,color='indigo')\n",
        "plt.ylabel(\"\", color='black', size=15)\n",
        "plt.xlabel(\"\", color='black', size=15)\n",
        "plt.xticks(lenth,data.index, color='black', fontsize=15, rotation=90)\n",
        "plt.title(\"Top 10 countries by number of highst billionaires\",fontsize=18)\n",
        "plt.show()"
      ],
      "metadata": {
        "colab": {
          "base_uri": "https://localhost:8080/",
          "height": 505
        },
        "id": "gg2YqIG4Wpn3",
        "outputId": "f35ed78c-2f35-4007-8c43-d0a088fcebc2"
      },
      "execution_count": null,
      "outputs": [
        {
          "output_type": "display_data",
          "data": {
            "text/plain": [
              "<Figure size 720x432 with 1 Axes>"
            ],
            "image/png": "[encoded data removed]"
          },
          "metadata": {}
        }
      ]
    },
    {
      "cell_type": "code",
      "source": [
        "import matplotlib\n",
        "print('matplotlib: {}'.format(matplotlib.__version__))"
      ],
      "metadata": {
        "colab": {
          "base_uri": "https://localhost:8080/"
        },
        "id": "nhrzzG-JQMk5",
        "outputId": "d85d6186-f0f4-4c49-c6a4-7dddb8cd4e5b"
      },
      "execution_count": null,
      "outputs": [
        {
          "output_type": "stream",
          "name": "stdout",
          "text": [
            "matplotlib: 3.2.2\n"
          ]
        }
      ]
    },
    {
      "cell_type": "code",
      "source": [
        "  #https://www.kaggle.com/code/leventekulcsar/eda-forbes-billionaires\n",
        "\n",
        "def get_flag(name):\n",
        "\n",
        "    '''TO GET THE FILE NAME OF THE FLAGS'''\n",
        "\n",
        "    path = \"../input/flagss/{}.png\".format(name.title())\n",
        "    im = plt.imread(path)\n",
        "    return im\n",
        "\n",
        "def offset_image(coord, name, ax):\n",
        "\n",
        "    \"\"\"CREATE IMAGE OBJECT AND ADD TO THE FIGURE\n",
        "    TO MODIFY IMAGE POSITION MODIFY THESE: (0, coord-0.17),  xybox=(-80, -16.)\n",
        "    coord IS THE POSITION OF THE COUNTRIES. IF WE NEED PICTURE ON X AXIS MOVE\n",
        "    coord TO FIRST VARIABLE POSITION LIKE THIS: (coord, -0.17),  xybox=(-80, -16.)\n",
        "    \"\"\"\n",
        "    img = get_flag(name)\n",
        "    im = OffsetImage(img, zoom=0.1)\n",
        "    im.image.axes = ax\n",
        "\n",
        "    ab = AnnotationBbox(im, (0, coord-0.17),  xybox=(-80, -16.), frameon=True,\n",
        "                        xycoords='data',  boxcoords=\"offset points\", pad=0, clip_on=False)\n",
        "\n",
        "    ax.add_artist(ab);\n",
        "\n",
        "\n",
        "Countries = df.country.value_counts().head(10).index.tolist()\n",
        "\n",
        "fig, ax = plt.subplots(figsize=(20, 8), facecolor='gray')\n",
        "\n",
        "sns.countplot(data=df, y='country', orient='h', order=df.country.value_counts().head(10).index, palette='flare', alpha=0.9)\n",
        "sns.despine(left=True, bottom=True)\n",
        "\n",
        "plt.title('* Countries with most billionares - Top 10 *', size=20, weight=\"bold\",x=0.40, family = \"DM Sans\", y=1.03)\n",
        "plt.ylabel(\"\", color='white', size=15)\n",
        "plt.xlabel(\"\", color='white', size=15)\n",
        "plt.yticks(size=20, weight=\"bold\", x=-0.1, color='white')\n",
        "plt.xticks([])\n",
        "plt.tick_params(left=False, color='white')\n",
        "\n",
        "ax.bar_label(container=ax.containers[0], size=20, weight=\"bold\", padding=10, color=\"white\")\n",
        "ax.set_facecolor('gray')\n",
        "ax.spines[\"left\"].set(visible = True)"
      ],
      "metadata": {
        "colab": {
          "base_uri": "https://localhost:8080/",
          "height": 718
        },
        "id": "N6r2YtSceZ9f",
        "outputId": "c668d817-4935-4123-f718-f4f91cb2d47c"
      },
      "execution_count": null,
      "outputs": [
        {
          "output_type": "error",
          "ename": "AttributeError",
          "evalue": "ignored",
          "traceback": [
            "\u001b[0;31m---------------------------------------------------------------------------\u001b[0m",
            "\u001b[0;31mAttributeError\u001b[0m                            Traceback (most recent call last)",
            "\u001b[0;32m<ipython-input-188-f190a34471cb>\u001b[0m in \u001b[0;36m<module>\u001b[0;34m\u001b[0m\n\u001b[1;32m     40\u001b[0m \u001b[0mplt\u001b[0m\u001b[0;34m.\u001b[0m\u001b[0mtick_params\u001b[0m\u001b[0;34m(\u001b[0m\u001b[0mleft\u001b[0m\u001b[0;34m=\u001b[0m\u001b[0;32mFalse\u001b[0m\u001b[0;34m,\u001b[0m \u001b[0mcolor\u001b[0m\u001b[0;34m=\u001b[0m\u001b[0;34m'white'\u001b[0m\u001b[0;34m)\u001b[0m\u001b[0;34m\u001b[0m\u001b[0;34m\u001b[0m\u001b[0m\n\u001b[1;32m     41\u001b[0m \u001b[0;34m\u001b[0m\u001b[0m\n\u001b[0;32m---> 42\u001b[0;31m \u001b[0max\u001b[0m\u001b[0;34m.\u001b[0m\u001b[0mbar_label\u001b[0m\u001b[0;34m(\u001b[0m\u001b[0mcontainer\u001b[0m\u001b[0;34m=\u001b[0m\u001b[0max\u001b[0m\u001b[0;34m.\u001b[0m\u001b[0mcontainers\u001b[0m\u001b[0;34m[\u001b[0m\u001b[0;36m0\u001b[0m\u001b[0;34m]\u001b[0m\u001b[0;34m,\u001b[0m \u001b[0msize\u001b[0m\u001b[0;34m=\u001b[0m\u001b[0;36m20\u001b[0m\u001b[0;34m,\u001b[0m \u001b[0mweight\u001b[0m\u001b[0;34m=\u001b[0m\u001b[0;34m\"bold\"\u001b[0m\u001b[0;34m,\u001b[0m \u001b[0mpadding\u001b[0m\u001b[0;34m=\u001b[0m\u001b[0;36m10\u001b[0m\u001b[0;34m,\u001b[0m \u001b[0mcolor\u001b[0m\u001b[0;34m=\u001b[0m\u001b[0;34m\"white\"\u001b[0m\u001b[0;34m)\u001b[0m\u001b[0;34m\u001b[0m\u001b[0;34m\u001b[0m\u001b[0m\n\u001b[0m\u001b[1;32m     43\u001b[0m \u001b[0max\u001b[0m\u001b[0;34m.\u001b[0m\u001b[0mset_facecolor\u001b[0m\u001b[0;34m(\u001b[0m\u001b[0;34m'gray'\u001b[0m\u001b[0;34m)\u001b[0m\u001b[0;34m\u001b[0m\u001b[0;34m\u001b[0m\u001b[0m\n\u001b[1;32m     44\u001b[0m \u001b[0max\u001b[0m\u001b[0;34m.\u001b[0m\u001b[0mspines\u001b[0m\u001b[0;34m[\u001b[0m\u001b[0;34m\"left\"\u001b[0m\u001b[0;34m]\u001b[0m\u001b[0;34m.\u001b[0m\u001b[0mset\u001b[0m\u001b[0;34m(\u001b[0m\u001b[0mvisible\u001b[0m \u001b[0;34m=\u001b[0m \u001b[0;32mTrue\u001b[0m\u001b[0;34m)\u001b[0m\u001b[0;34m\u001b[0m\u001b[0;34m\u001b[0m\u001b[0m\n",
            "\u001b[0;31mAttributeError\u001b[0m: 'AxesSubplot' object has no attribute 'bar_label'"
          ]
        },
        {
          "output_type": "display_data",
          "data": {
            "text/plain": [
              "<Figure size 1440x576 with 1 Axes>"
            ],
            "image/png": "[encoded data removed]"
          },
          "metadata": {}
        }
      ]
    },
    {
      "cell_type": "code",
      "source": [
        "#https://www.kaggle.com/code/leventekulcsar/eda-forbes-billionaires\n",
        "\n",
        "mapdf = px.data.gapminder().query(\"year==2014\")[[\"country\", \"iso_alpha\"]]\n",
        "\n",
        "mergedmapdf = pd.merge(left=df, right=mapdf, how=\"inner\", left_on='country', right_on='country' )\n",
        "\n",
        "mergedmapdf = mergedmapdf.groupby(by=[\"country\", \"iso_alpha\"]).count()[\"name\"].reset_index()\n",
        "\n",
        "fig = px.choropleth(mergedmapdf\n",
        "                    ,locations=\"iso_alpha\"\n",
        "                    ,color=\"name\"\n",
        "                    ,hover_name=\"country\"\n",
        "                    ,color_continuous_scale=px.colors.sequential.Plasma\n",
        "                    ,hover_data=dict(iso_alpha=False)\n",
        "                    ,labels={'name':'# of Billionaires'}\n",
        "                   )\n",
        "\n",
        "fig.update_layout(title = '# of Billionaires by Countries',title_x=0.5)\n",
        "\n",
        "fig.update_geos(projection_type=\"natural earth\")\n",
        "\n",
        "fig['layout']['title']['font'] = dict(size=24)\n",
        "\n",
        "fig.show()"
      ],
      "metadata": {
        "id": "DOrzkNWqh-JT",
        "colab": {
          "base_uri": "https://localhost:8080/",
          "height": 542
        },
        "outputId": "3e0bb443-a946-4df8-df37-58a4e136d616"
      },
      "execution_count": null,
      "outputs": [
        {
          "output_type": "display_data",
          "data": {
            "application/vnd.plotly.v1+json": {
              "data": [],
              "layout": {
                "template": {
                  "data": {
                    "bar": [
                      {
                        "error_x": {
                          "color": "#2a3f5f"
                        },
                        "error_y": {
                          "color": "#2a3f5f"
                        },
                        "marker": {
                          "line": {
                            "color": "#E5ECF6",
                            "width": 0.5
                          },
                          "pattern": {
                            "fillmode": "overlay",
                            "size": 10,
                            "solidity": 0.2
                          }
                        },
                        "type": "bar"
                      }
                    ],
                    "barpolar": [
                      {
                        "marker": {
                          "line": {
                            "color": "#E5ECF6",
                            "width": 0.5
                          },
                          "pattern": {
                            "fillmode": "overlay",
                            "size": 10,
                            "solidity": 0.2
                          }
                        },
                        "type": "barpolar"
                      }
                    ],
                    "carpet": [
                      {
                        "aaxis": {
                          "endlinecolor": "#2a3f5f",
                          "gridcolor": "white",
                          "linecolor": "white",
                          "minorgridcolor": "white",
                          "startlinecolor": "#2a3f5f"
                        },
                        "baxis": {
                          "endlinecolor": "#2a3f5f",
                          "gridcolor": "white",
                          "linecolor": "white",
                          "minorgridcolor": "white",
                          "startlinecolor": "#2a3f5f"
                        },
                        "type": "carpet"
                      }
                    ],
                    "choropleth": [
                      {
                        "colorbar": {
                          "outlinewidth": 0,
                          "ticks": ""
                        },
                        "type": "choropleth"
                      }
                    ],
                    "contour": [
                      {
                        "colorbar": {
                          "outlinewidth": 0,
                          "ticks": ""
                        },
                        "colorscale": [
                          [
                            0,
                            "#0d0887"
                          ],
                          [
                            0.1111111111111111,
                            "#46039f"
                          ],
                          [
                            0.2222222222222222,
                            "#7201a8"
                          ],
                          [
                            0.3333333333333333,
                            "#9c179e"
                          ],
                          [
                            0.4444444444444444,
                            "#bd3786"
                          ],
                          [
                            0.5555555555555556,
                            "#d8576b"
                          ],
                          [
                            0.6666666666666666,
                            "#ed7953"
                          ],
                          [
                            0.7777777777777778,
                            "#fb9f3a"
                          ],
                          [
                            0.8888888888888888,
                            "#fdca26"
                          ],
                          [
                            1,
                            "#f0f921"
                          ]
                        ],
                        "type": "contour"
                      }
                    ],
                    "contourcarpet": [
                      {
                        "colorbar": {
                          "outlinewidth": 0,
                          "ticks": ""
                        },
                        "type": "contourcarpet"
                      }
                    ],
                    "heatmap": [
                      {
                        "colorbar": {
                          "outlinewidth": 0,
                          "ticks": ""
                        },
                        "colorscale": [
                          [
                            0,
                            "#0d0887"
                          ],
                          [
                            0.1111111111111111,
                            "#46039f"
                          ],
                          [
                            0.2222222222222222,
                            "#7201a8"
                          ],
                          [
                            0.3333333333333333,
                            "#9c179e"
                          ],
                          [
                            0.4444444444444444,
                            "#bd3786"
                          ],
                          [
                            0.5555555555555556,
                            "#d8576b"
                          ],
                          [
                            0.6666666666666666,
                            "#ed7953"
                          ],
                          [
                            0.7777777777777778,
                            "#fb9f3a"
                          ],
                          [
                            0.8888888888888888,
                            "#fdca26"
                          ],
                          [
                            1,
                            "#f0f921"
                          ]
                        ],
                        "type": "heatmap"
                      }
                    ],
                    "heatmapgl": [
                      {
                        "colorbar": {
                          "outlinewidth": 0,
                          "ticks": ""
                        },
                        "colorscale": [
                          [
                            0,
                            "#0d0887"
                          ],
                          [
                            0.1111111111111111,
                            "#46039f"
                          ],
                          [
                            0.2222222222222222,
                            "#7201a8"
                          ],
                          [
                            0.3333333333333333,
                            "#9c179e"
                          ],
                          [
                            0.4444444444444444,
                            "#bd3786"
                          ],
                          [
                            0.5555555555555556,
                            "#d8576b"
                          ],
                          [
                            0.6666666666666666,
                            "#ed7953"
                          ],
                          [
                            0.7777777777777778,
                            "#fb9f3a"
                          ],
                          [
                            0.8888888888888888,
                            "#fdca26"
                          ],
                          [
                            1,
                            "#f0f921"
                          ]
                        ],
                        "type": "heatmapgl"
                      }
                    ],
                    "histogram": [
                      {
                        "marker": {
                          "pattern": {
                            "fillmode": "overlay",
                            "size": 10,
                            "solidity": 0.2
                          }
                        },
                        "type": "histogram"
                      }
                    ],
                    "histogram2d": [
                      {
                        "colorbar": {
                          "outlinewidth": 0,
                          "ticks": ""
                        },
                        "colorscale": [
                          [
                            0,
                            "#0d0887"
                          ],
                          [
                            0.1111111111111111,
                            "#46039f"
                          ],
                          [
                            0.2222222222222222,
                            "#7201a8"
                          ],
                          [
                            0.3333333333333333,
                            "#9c179e"
                          ],
                          [
                            0.4444444444444444,
                            "#bd3786"
                          ],
                          [
                            0.5555555555555556,
                            "#d8576b"
                          ],
                          [
                            0.6666666666666666,
                            "#ed7953"
                          ],
                          [
                            0.7777777777777778,
                            "#fb9f3a"
                          ],
                          [
                            0.8888888888888888,
                            "#fdca26"
                          ],
                          [
                            1,
                            "#f0f921"
                          ]
                        ],
                        "type": "histogram2d"
                      }
                    ],
                    "histogram2dcontour": [
                      {
                        "colorbar": {
                          "outlinewidth": 0,
                          "ticks": ""
                        },
                        "colorscale": [
                          [
                            0,
                            "#0d0887"
                          ],
                          [
                            0.1111111111111111,
                            "#46039f"
                          ],
                          [
                            0.2222222222222222,
                            "#7201a8"
                          ],
                          [
                            0.3333333333333333,
                            "#9c179e"
                          ],
                          [
                            0.4444444444444444,
                            "#bd3786"
                          ],
                          [
                            0.5555555555555556,
                            "#d8576b"
                          ],
                          [
                            0.6666666666666666,
                            "#ed7953"
                          ],
                          [
                            0.7777777777777778,
                            "#fb9f3a"
                          ],
                          [
                            0.8888888888888888,
                            "#fdca26"
                          ],
                          [
                            1,
                            "#f0f921"
                          ]
                        ],
                        "type": "histogram2dcontour"
                      }
                    ],
                    "mesh3d": [
                      {
                        "colorbar": {
                          "outlinewidth": 0,
                          "ticks": ""
                        },
                        "type": "mesh3d"
                      }
                    ],
                    "parcoords": [
                      {
                        "line": {
                          "colorbar": {
                            "outlinewidth": 0,
                            "ticks": ""
                          }
                        },
                        "type": "parcoords"
                      }
                    ],
                    "pie": [
                      {
                        "automargin": true,
                        "type": "pie"
                      }
                    ],
                    "scatter": [
                      {
                        "marker": {
                          "colorbar": {
                            "outlinewidth": 0,
                            "ticks": ""
                          }
                        },
                        "type": "scatter"
                      }
                    ],
                    "scatter3d": [
                      {
                        "line": {
                          "colorbar": {
                            "outlinewidth": 0,
                            "ticks": ""
                          }
                        },
                        "marker": {
                          "colorbar": {
                            "outlinewidth": 0,
                            "ticks": ""
                          }
                        },
                        "type": "scatter3d"
                      }
                    ],
                    "scattercarpet": [
                      {
                        "marker": {
                          "colorbar": {
                            "outlinewidth": 0,
                            "ticks": ""
                          }
                        },
                        "type": "scattercarpet"
                      }
                    ],
                    "scattergeo": [
                      {
                        "marker": {
                          "colorbar": {
                            "outlinewidth": 0,
                            "ticks": ""
                          }
                        },
                        "type": "scattergeo"
                      }
                    ],
                    "scattergl": [
                      {
                        "marker": {
                          "colorbar": {
                            "outlinewidth": 0,
                            "ticks": ""
                          }
                        },
                        "type": "scattergl"
                      }
                    ],
                    "scattermapbox": [
                      {
                        "marker": {
                          "colorbar": {
                            "outlinewidth": 0,
                            "ticks": ""
                          }
                        },
                        "type": "scattermapbox"
                      }
                    ],
                    "scatterpolar": [
                      {
                        "marker": {
                          "colorbar": {
                            "outlinewidth": 0,
                            "ticks": ""
                          }
                        },
                        "type": "scatterpolar"
                      }
                    ],
                    "scatterpolargl": [
                      {
                        "marker": {
                          "colorbar": {
                            "outlinewidth": 0,
                            "ticks": ""
                          }
                        },
                        "type": "scatterpolargl"
                      }
                    ],
                    "scatterternary": [
                      {
                        "marker": {
                          "colorbar": {
                            "outlinewidth": 0,
                            "ticks": ""
                          }
                        },
                        "type": "scatterternary"
                      }
                    ],
                    "surface": [
                      {
                        "colorbar": {
                          "outlinewidth": 0,
                          "ticks": ""
                        },
                        "colorscale": [
                          [
                            0,
                            "#0d0887"
                          ],
                          [
                            0.1111111111111111,
                            "#46039f"
                          ],
                          [
                            0.2222222222222222,
                            "#7201a8"
                          ],
                          [
                            0.3333333333333333,
                            "#9c179e"
                          ],
                          [
                            0.4444444444444444,
                            "#bd3786"
                          ],
                          [
                            0.5555555555555556,
                            "#d8576b"
                          ],
                          [
                            0.6666666666666666,
                            "#ed7953"
                          ],
                          [
                            0.7777777777777778,
                            "#fb9f3a"
                          ],
                          [
                            0.8888888888888888,
                            "#fdca26"
                          ],
                          [
                            1,
                            "#f0f921"
                          ]
                        ],
                        "type": "surface"
                      }
                    ],
                    "table": [
                      {
                        "cells": {
                          "fill": {
                            "color": "#EBF0F8"
                          },
                          "line": {
                            "color": "white"
                          }
                        },
                        "header": {
                          "fill": {
                            "color": "#C8D4E3"
                          },
                          "line": {
                            "color": "white"
                          }
                        },
                        "type": "table"
                      }
                    ]
                  },
                  "layout": {
                    "annotationdefaults": {
                      "arrowcolor": "#2a3f5f",
                      "arrowhead": 0,
                      "arrowwidth": 1
                    },
                    "autotypenumbers": "strict",
                    "coloraxis": {
                      "colorbar": {
                        "outlinewidth": 0,
                        "ticks": ""
                      }
                    },
                    "colorscale": {
                      "diverging": [
                        [
                          0,
                          "#8e0152"
                        ],
                        [
                          0.1,
                          "#c51b7d"
                        ],
                        [
                          0.2,
                          "#de77ae"
                        ],
                        [
                          0.3,
                          "#f1b6da"
                        ],
                        [
                          0.4,
                          "#fde0ef"
                        ],
                        [
                          0.5,
                          "#f7f7f7"
                        ],
                        [
                          0.6,
                          "#e6f5d0"
                        ],
                        [
                          0.7,
                          "#b8e186"
                        ],
                        [
                          0.8,
                          "#7fbc41"
                        ],
                        [
                          0.9,
                          "#4d9221"
                        ],
                        [
                          1,
                          "#276419"
                        ]
                      ],
                      "sequential": [
                        [
                          0,
                          "#0d0887"
                        ],
                        [
                          0.1111111111111111,
                          "#46039f"
                        ],
                        [
                          0.2222222222222222,
                          "#7201a8"
                        ],
                        [
                          0.3333333333333333,
                          "#9c179e"
                        ],
                        [
                          0.4444444444444444,
                          "#bd3786"
                        ],
                        [
                          0.5555555555555556,
                          "#d8576b"
                        ],
                        [
                          0.6666666666666666,
                          "#ed7953"
                        ],
                        [
                          0.7777777777777778,
                          "#fb9f3a"
                        ],
                        [
                          0.8888888888888888,
                          "#fdca26"
                        ],
                        [
                          1,
                          "#f0f921"
                        ]
                      ],
                      "sequentialminus": [
                        [
                          0,
                          "#0d0887"
                        ],
                        [
                          0.1111111111111111,
                          "#46039f"
                        ],
                        [
                          0.2222222222222222,
                          "#7201a8"
                        ],
                        [
                          0.3333333333333333,
                          "#9c179e"
                        ],
                        [
                          0.4444444444444444,
                          "#bd3786"
                        ],
                        [
                          0.5555555555555556,
                          "#d8576b"
                        ],
                        [
                          0.6666666666666666,
                          "#ed7953"
                        ],
                        [
                          0.7777777777777778,
                          "#fb9f3a"
                        ],
                        [
                          0.8888888888888888,
                          "#fdca26"
                        ],
                        [
                          1,
                          "#f0f921"
                        ]
                      ]
                    },
                    "colorway": [
                      "#636efa",
                      "#EF553B",
                      "#00cc96",
                      "#ab63fa",
                      "#FFA15A",
                      "#19d3f3",
                      "#FF6692",
                      "#B6E880",
                      "#FF97FF",
                      "#FECB52"
                    ],
                    "font": {
                      "color": "#2a3f5f"
                    },
                    "geo": {
                      "bgcolor": "white",
                      "lakecolor": "white",
                      "landcolor": "#E5ECF6",
                      "showlakes": true,
                      "showland": true,
                      "subunitcolor": "white"
                    },
                    "hoverlabel": {
                      "align": "left"
                    },
                    "hovermode": "closest",
                    "mapbox": {
                      "style": "light"
                    },
                    "paper_bgcolor": "white",
                    "plot_bgcolor": "#E5ECF6",
                    "polar": {
                      "angularaxis": {
                        "gridcolor": "white",
                        "linecolor": "white",
                        "ticks": ""
                      },
                      "bgcolor": "#E5ECF6",
                      "radialaxis": {
                        "gridcolor": "white",
                        "linecolor": "white",
                        "ticks": ""
                      }
                    },
                    "scene": {
                      "xaxis": {
                        "backgroundcolor": "#E5ECF6",
                        "gridcolor": "white",
                        "gridwidth": 2,
                        "linecolor": "white",
                        "showbackground": true,
                        "ticks": "",
                        "zerolinecolor": "white"
                      },
                      "yaxis": {
                        "backgroundcolor": "#E5ECF6",
                        "gridcolor": "white",
                        "gridwidth": 2,
                        "linecolor": "white",
                        "showbackground": true,
                        "ticks": "",
                        "zerolinecolor": "white"
                      },
                      "zaxis": {
                        "backgroundcolor": "#E5ECF6",
                        "gridcolor": "white",
                        "gridwidth": 2,
                        "linecolor": "white",
                        "showbackground": true,
                        "ticks": "",
                        "zerolinecolor": "white"
                      }
                    },
                    "shapedefaults": {
                      "line": {
                        "color": "#2a3f5f"
                      }
                    },
                    "ternary": {
                      "aaxis": {
                        "gridcolor": "white",
                        "linecolor": "white",
                        "ticks": ""
                      },
                      "baxis": {
                        "gridcolor": "white",
                        "linecolor": "white",
                        "ticks": ""
                      },
                      "bgcolor": "#E5ECF6",
                      "caxis": {
                        "gridcolor": "white",
                        "linecolor": "white",
                        "ticks": ""
                      }
                    },
                    "title": {
                      "x": 0.05
                    },
                    "xaxis": {
                      "automargin": true,
                      "gridcolor": "white",
                      "linecolor": "white",
                      "ticks": "",
                      "title": {
                        "standoff": 15
                      },
                      "zerolinecolor": "white",
                      "zerolinewidth": 2
                    },
                    "yaxis": {
                      "automargin": true,
                      "gridcolor": "white",
                      "linecolor": "white",
                      "ticks": "",
                      "title": {
                        "standoff": 15
                      },
                      "zerolinecolor": "white",
                      "zerolinewidth": 2
                    }
                  }
                },
                "geo": {
                  "domain": {
                    "x": [
                      0,
                      1
                    ],
                    "y": [
                      0,
                      1
                    ]
                  },
                  "center": {},
                  "projection": {
                    "type": "natural earth"
                  }
                },
                "coloraxis": {
                  "colorbar": {
                    "title": {
                      "text": "# of Billionaires"
                    }
                  },
                  "colorscale": [
                    [
                      0,
                      "#0d0887"
                    ],
                    [
                      0.1111111111111111,
                      "#46039f"
                    ],
                    [
                      0.2222222222222222,
                      "#7201a8"
                    ],
                    [
                      0.3333333333333333,
                      "#9c179e"
                    ],
                    [
                      0.4444444444444444,
                      "#bd3786"
                    ],
                    [
                      0.5555555555555556,
                      "#d8576b"
                    ],
                    [
                      0.6666666666666666,
                      "#ed7953"
                    ],
                    [
                      0.7777777777777778,
                      "#fb9f3a"
                    ],
                    [
                      0.8888888888888888,
                      "#fdca26"
                    ],
                    [
                      1,
                      "#f0f921"
                    ]
                  ]
                },
                "legend": {
                  "tracegroupgap": 0
                },
                "margin": {
                  "t": 60
                },
                "title": {
                  "text": "# of Billionaires by Countries",
                  "x": 0.5,
                  "font": {
                    "size": 24
                  }
                }
              },
              "config": {
                "plotlyServerURL": "https://plot.ly"
              }
            },
            "text/html": [
              "<div>                            <div id=\"ab77cbf1-1ec4-46eb-9c9e-0a2384d62d5a\" class=\"plotly-graph-div\" style=\"height:525px; width:100%;\"></div>            <script type=\"text/javascript\">                require([\"plotly\"], function(Plotly) {                    window.PLOTLYENV=window.PLOTLYENV || {};                                    if (document.getElementById(\"ab77cbf1-1ec4-46eb-9c9e-0a2384d62d5a\")) {                    Plotly.newPlot(                        \"ab77cbf1-1ec4-46eb-9c9e-0a2384d62d5a\",                        [],                        {\"template\":{\"data\":{\"bar\":[{\"error_x\":{\"color\":\"#2a3f5f\"},\"error_y\":{\"color\":\"#2a3f5f\"},\"marker\":{\"line\":{\"color\":\"#E5ECF6\",\"width\":0.5},\"pattern\":{\"fillmode\":\"overlay\",\"size\":10,\"solidity\":0.2}},\"type\":\"bar\"}],\"barpolar\":[{\"marker\":{\"line\":{\"color\":\"#E5ECF6\",\"width\":0.5},\"pattern\":{\"fillmode\":\"overlay\",\"size\":10,\"solidity\":0.2}},\"type\":\"barpolar\"}],\"carpet\":[{\"aaxis\":{\"endlinecolor\":\"#2a3f5f\",\"gridcolor\":\"white\",\"linecolor\":\"white\",\"minorgridcolor\":\"white\",\"startlinecolor\":\"#2a3f5f\"},\"baxis\":{\"endlinecolor\":\"#2a3f5f\",\"gridcolor\":\"white\",\"linecolor\":\"white\",\"minorgridcolor\":\"white\",\"startlinecolor\":\"#2a3f5f\"},\"type\":\"carpet\"}],\"choropleth\":[{\"colorbar\":{\"outlinewidth\":0,\"ticks\":\"\"},\"type\":\"choropleth\"}],\"contour\":[{\"colorbar\":{\"outlinewidth\":0,\"ticks\":\"\"},\"colorscale\":[[0.0,\"#0d0887\"],[0.1111111111111111,\"#46039f\"],[0.2222222222222222,\"#7201a8\"],[0.3333333333333333,\"#9c179e\"],[0.4444444444444444,\"#bd3786\"],[0.5555555555555556,\"#d8576b\"],[0.6666666666666666,\"#ed7953\"],[0.7777777777777778,\"#fb9f3a\"],[0.8888888888888888,\"#fdca26\"],[1.0,\"#f0f921\"]],\"type\":\"contour\"}],\"contourcarpet\":[{\"colorbar\":{\"outlinewidth\":0,\"ticks\":\"\"},\"type\":\"contourcarpet\"}],\"heatmap\":[{\"colorbar\":{\"outlinewidth\":0,\"ticks\":\"\"},\"colorscale\":[[0.0,\"#0d0887\"],[0.1111111111111111,\"#46039f\"],[0.2222222222222222,\"#7201a8\"],[0.3333333333333333,\"#9c179e\"],[0.4444444444444444,\"#bd3786\"],[0.5555555555555556,\"#d8576b\"],[0.6666666666666666,\"#ed7953\"],[0.7777777777777778,\"#fb9f3a\"],[0.8888888888888888,\"#fdca26\"],[1.0,\"#f0f921\"]],\"type\":\"heatmap\"}],\"heatmapgl\":[{\"colorbar\":{\"outlinewidth\":0,\"ticks\":\"\"},\"colorscale\":[[0.0,\"#0d0887\"],[0.1111111111111111,\"#46039f\"],[0.2222222222222222,\"#7201a8\"],[0.3333333333333333,\"#9c179e\"],[0.4444444444444444,\"#bd3786\"],[0.5555555555555556,\"#d8576b\"],[0.6666666666666666,\"#ed7953\"],[0.7777777777777778,\"#fb9f3a\"],[0.8888888888888888,\"#fdca26\"],[1.0,\"#f0f921\"]],\"type\":\"heatmapgl\"}],\"histogram\":[{\"marker\":{\"pattern\":{\"fillmode\":\"overlay\",\"size\":10,\"solidity\":0.2}},\"type\":\"histogram\"}],\"histogram2d\":[{\"colorbar\":{\"outlinewidth\":0,\"ticks\":\"\"},\"colorscale\":[[0.0,\"#0d0887\"],[0.1111111111111111,\"#46039f\"],[0.2222222222222222,\"#7201a8\"],[0.3333333333333333,\"#9c179e\"],[0.4444444444444444,\"#bd3786\"],[0.5555555555555556,\"#d8576b\"],[0.6666666666666666,\"#ed7953\"],[0.7777777777777778,\"#fb9f3a\"],[0.8888888888888888,\"#fdca26\"],[1.0,\"#f0f921\"]],\"type\":\"histogram2d\"}],\"histogram2dcontour\":[{\"colorbar\":{\"outlinewidth\":0,\"ticks\":\"\"},\"colorscale\":[[0.0,\"#0d0887\"],[0.1111111111111111,\"#46039f\"],[0.2222222222222222,\"#7201a8\"],[0.3333333333333333,\"#9c179e\"],[0.4444444444444444,\"#bd3786\"],[0.5555555555555556,\"#d8576b\"],[0.6666666666666666,\"#ed7953\"],[0.7777777777777778,\"#fb9f3a\"],[0.8888888888888888,\"#fdca26\"],[1.0,\"#f0f921\"]],\"type\":\"histogram2dcontour\"}],\"mesh3d\":[{\"colorbar\":{\"outlinewidth\":0,\"ticks\":\"\"},\"type\":\"mesh3d\"}],\"parcoords\":[{\"line\":{\"colorbar\":{\"outlinewidth\":0,\"ticks\":\"\"}},\"type\":\"parcoords\"}],\"pie\":[{\"automargin\":true,\"type\":\"pie\"}],\"scatter\":[{\"marker\":{\"colorbar\":{\"outlinewidth\":0,\"ticks\":\"\"}},\"type\":\"scatter\"}],\"scatter3d\":[{\"line\":{\"colorbar\":{\"outlinewidth\":0,\"ticks\":\"\"}},\"marker\":{\"colorbar\":{\"outlinewidth\":0,\"ticks\":\"\"}},\"type\":\"scatter3d\"}],\"scattercarpet\":[{\"marker\":{\"colorbar\":{\"outlinewidth\":0,\"ticks\":\"\"}},\"type\":\"scattercarpet\"}],\"scattergeo\":[{\"marker\":{\"colorbar\":{\"outlinewidth\":0,\"ticks\":\"\"}},\"type\":\"scattergeo\"}],\"scattergl\":[{\"marker\":{\"colorbar\":{\"outlinewidth\":0,\"ticks\":\"\"}},\"type\":\"scattergl\"}],\"scattermapbox\":[{\"marker\":{\"colorbar\":{\"outlinewidth\":0,\"ticks\":\"\"}},\"type\":\"scattermapbox\"}],\"scatterpolar\":[{\"marker\":{\"colorbar\":{\"outlinewidth\":0,\"ticks\":\"\"}},\"type\":\"scatterpolar\"}],\"scatterpolargl\":[{\"marker\":{\"colorbar\":{\"outlinewidth\":0,\"ticks\":\"\"}},\"type\":\"scatterpolargl\"}],\"scatterternary\":[{\"marker\":{\"colorbar\":{\"outlinewidth\":0,\"ticks\":\"\"}},\"type\":\"scatterternary\"}],\"surface\":[{\"colorbar\":{\"outlinewidth\":0,\"ticks\":\"\"},\"colorscale\":[[0.0,\"#0d0887\"],[0.1111111111111111,\"#46039f\"],[0.2222222222222222,\"#7201a8\"],[0.3333333333333333,\"#9c179e\"],[0.4444444444444444,\"#bd3786\"],[0.5555555555555556,\"#d8576b\"],[0.6666666666666666,\"#ed7953\"],[0.7777777777777778,\"#fb9f3a\"],[0.8888888888888888,\"#fdca26\"],[1.0,\"#f0f921\"]],\"type\":\"surface\"}],\"table\":[{\"cells\":{\"fill\":{\"color\":\"#EBF0F8\"},\"line\":{\"color\":\"white\"}},\"header\":{\"fill\":{\"color\":\"#C8D4E3\"},\"line\":{\"color\":\"white\"}},\"type\":\"table\"}]},\"layout\":{\"annotationdefaults\":{\"arrowcolor\":\"#2a3f5f\",\"arrowhead\":0,\"arrowwidth\":1},\"autotypenumbers\":\"strict\",\"coloraxis\":{\"colorbar\":{\"outlinewidth\":0,\"ticks\":\"\"}},\"colorscale\":{\"diverging\":[[0,\"#8e0152\"],[0.1,\"#c51b7d\"],[0.2,\"#de77ae\"],[0.3,\"#f1b6da\"],[0.4,\"#fde0ef\"],[0.5,\"#f7f7f7\"],[0.6,\"#e6f5d0\"],[0.7,\"#b8e186\"],[0.8,\"#7fbc41\"],[0.9,\"#4d9221\"],[1,\"#276419\"]],\"sequential\":[[0.0,\"#0d0887\"],[0.1111111111111111,\"#46039f\"],[0.2222222222222222,\"#7201a8\"],[0.3333333333333333,\"#9c179e\"],[0.4444444444444444,\"#bd3786\"],[0.5555555555555556,\"#d8576b\"],[0.6666666666666666,\"#ed7953\"],[0.7777777777777778,\"#fb9f3a\"],[0.8888888888888888,\"#fdca26\"],[1.0,\"#f0f921\"]],\"sequentialminus\":[[0.0,\"#0d0887\"],[0.1111111111111111,\"#46039f\"],[0.2222222222222222,\"#7201a8\"],[0.3333333333333333,\"#9c179e\"],[0.4444444444444444,\"#bd3786\"],[0.5555555555555556,\"#d8576b\"],[0.6666666666666666,\"#ed7953\"],[0.7777777777777778,\"#fb9f3a\"],[0.8888888888888888,\"#fdca26\"],[1.0,\"#f0f921\"]]},\"colorway\":[\"#636efa\",\"#EF553B\",\"#00cc96\",\"#ab63fa\",\"#FFA15A\",\"#19d3f3\",\"#FF6692\",\"#B6E880\",\"#FF97FF\",\"#FECB52\"],\"font\":{\"color\":\"#2a3f5f\"},\"geo\":{\"bgcolor\":\"white\",\"lakecolor\":\"white\",\"landcolor\":\"#E5ECF6\",\"showlakes\":true,\"showland\":true,\"subunitcolor\":\"white\"},\"hoverlabel\":{\"align\":\"left\"},\"hovermode\":\"closest\",\"mapbox\":{\"style\":\"light\"},\"paper_bgcolor\":\"white\",\"plot_bgcolor\":\"#E5ECF6\",\"polar\":{\"angularaxis\":{\"gridcolor\":\"white\",\"linecolor\":\"white\",\"ticks\":\"\"},\"bgcolor\":\"#E5ECF6\",\"radialaxis\":{\"gridcolor\":\"white\",\"linecolor\":\"white\",\"ticks\":\"\"}},\"scene\":{\"xaxis\":{\"backgroundcolor\":\"#E5ECF6\",\"gridcolor\":\"white\",\"gridwidth\":2,\"linecolor\":\"white\",\"showbackground\":true,\"ticks\":\"\",\"zerolinecolor\":\"white\"},\"yaxis\":{\"backgroundcolor\":\"#E5ECF6\",\"gridcolor\":\"white\",\"gridwidth\":2,\"linecolor\":\"white\",\"showbackground\":true,\"ticks\":\"\",\"zerolinecolor\":\"white\"},\"zaxis\":{\"backgroundcolor\":\"#E5ECF6\",\"gridcolor\":\"white\",\"gridwidth\":2,\"linecolor\":\"white\",\"showbackground\":true,\"ticks\":\"\",\"zerolinecolor\":\"white\"}},\"shapedefaults\":{\"line\":{\"color\":\"#2a3f5f\"}},\"ternary\":{\"aaxis\":{\"gridcolor\":\"white\",\"linecolor\":\"white\",\"ticks\":\"\"},\"baxis\":{\"gridcolor\":\"white\",\"linecolor\":\"white\",\"ticks\":\"\"},\"bgcolor\":\"#E5ECF6\",\"caxis\":{\"gridcolor\":\"white\",\"linecolor\":\"white\",\"ticks\":\"\"}},\"title\":{\"x\":0.05},\"xaxis\":{\"automargin\":true,\"gridcolor\":\"white\",\"linecolor\":\"white\",\"ticks\":\"\",\"title\":{\"standoff\":15},\"zerolinecolor\":\"white\",\"zerolinewidth\":2},\"yaxis\":{\"automargin\":true,\"gridcolor\":\"white\",\"linecolor\":\"white\",\"ticks\":\"\",\"title\":{\"standoff\":15},\"zerolinecolor\":\"white\",\"zerolinewidth\":2}}},\"geo\":{\"domain\":{\"x\":[0.0,1.0],\"y\":[0.0,1.0]},\"center\":{},\"projection\":{\"type\":\"natural earth\"}},\"coloraxis\":{\"colorbar\":{\"title\":{\"text\":\"# of Billionaires\"}},\"colorscale\":[[0.0,\"#0d0887\"],[0.1111111111111111,\"#46039f\"],[0.2222222222222222,\"#7201a8\"],[0.3333333333333333,\"#9c179e\"],[0.4444444444444444,\"#bd3786\"],[0.5555555555555556,\"#d8576b\"],[0.6666666666666666,\"#ed7953\"],[0.7777777777777778,\"#fb9f3a\"],[0.8888888888888888,\"#fdca26\"],[1.0,\"#f0f921\"]]},\"legend\":{\"tracegroupgap\":0},\"margin\":{\"t\":60},\"title\":{\"text\":\"# of Billionaires by Countries\",\"x\":0.5,\"font\":{\"size\":24}}},                        {\"responsive\": true}                    ).then(function(){\n",
              "                            \n",
              "var gd = document.getElementById('ab77cbf1-1ec4-46eb-9c9e-0a2384d62d5a');\n",
              "var x = new MutationObserver(function (mutations, observer) {{\n",
              "        var display = window.getComputedStyle(gd).display;\n",
              "        if (!display || display === 'none') {{\n",
              "            console.log([gd, 'removed!']);\n",
              "            Plotly.purge(gd);\n",
              "            observer.disconnect();\n",
              "        }}\n",
              "}});\n",
              "\n",
              "// Listen for the removal of the full notebook cells\n",
              "var notebookContainer = gd.closest('#notebook-container');\n",
              "if (notebookContainer) {{\n",
              "    x.observe(notebookContainer, {childList: true});\n",
              "}}\n",
              "\n",
              "// Listen for the clearing of the current output cell\n",
              "var outputEl = gd.closest('.output');\n",
              "if (outputEl) {{\n",
              "    x.observe(outputEl, {childList: true});\n",
              "}}\n",
              "\n",
              "                        })                };                });            </script>        </div>"
            ]
          },
          "metadata": {}
        }
      ]
    },
    {
      "cell_type": "code",
      "source": [
        "#What industries/sectors are most successful?"
      ],
      "metadata": {
        "id": "GVyLv6N8hZcO"
      },
      "execution_count": null,
      "outputs": []
    },
    {
      "cell_type": "code",
      "source": [
        "#https://www.kaggle.com/code/ramjasmaurya/billionaires\n",
        "vals=\"wealthworth_inbillions\"\n",
        "df2 = df.groupby('industry')['wealthworth_inbillions'].sum().reset_index(name='counts')\n",
        "\n",
        "# Draw Plot\n",
        "fig, ax = plt.subplots(figsize=(20, 8), subplot_kw=dict(aspect=\"equal\"), dpi= 80)\n",
        "\n",
        "data = df2['counts']\n",
        "categories = df2['industry']\n",
        "colors = [plt.cm.Spectral(i/float(len(vals)-1)) for i in range(len(vals))]\n",
        "def func(pct, allvals):\n",
        "    absolute = int(pct/100.*np.sum(allvals))\n",
        "    return \"{:.1f}% ({:d} )\".format(pct, absolute)\n",
        "\n",
        "wedges, texts, autotexts = ax.pie(data,\n",
        "                                  autopct=lambda pct: func(pct, data),\n",
        "                                  textprops=dict(color=\"black\"),startangle=140,colors=colors[:len(vals)])\n",
        "\n",
        "# Decoration\n",
        "ax.legend(wedges, categories, title=\"Country\", loc=\"center left\", bbox_to_anchor=(1, 0, 0.5, 1))\n",
        "plt.setp(autotexts, size=10, weight=0)\n",
        "ax.set_title(\"Billionaries money as per their sector: Pie Chart\")\n",
        "plt.show()"
      ],
      "metadata": {
        "id": "ffP49wnBhc9t",
        "colab": {
          "base_uri": "https://localhost:8080/",
          "height": 532
        },
        "outputId": "5e0f1e45-9aae-4f4d-aa2d-3b59a28dce2b"
      },
      "execution_count": null,
      "outputs": [
        {
          "output_type": "display_data",
          "data": {
            "text/plain": [
              "<Figure size 1600x640 with 1 Axes>"
            ],
            "image/png": "[encoded data removed]"
          },
          "metadata": {}
        }
      ]
    },
    {
      "cell_type": "code",
      "source": [
        "df.head()"
      ],
      "metadata": {
        "id": "tNziUMMRjoiz",
        "colab": {
          "base_uri": "https://localhost:8080/",
          "height": 337
        },
        "outputId": "ccb1cb17-1562-41dc-ef15-2ec4560fe69b"
      },
      "execution_count": null,
      "outputs": [
        {
          "output_type": "execute_result",
          "data": {
            "text/plain": [
              "             name  rank  year  company_founded        company_name  \\\n",
              "0      Bill Gates     1  1996           1975.0           Microsoft   \n",
              "1      Bill Gates     1  2001           1975.0           Microsoft   \n",
              "2      Bill Gates     1  2014           1975.0           Microsoft   \n",
              "3  Warren Buffett     2  1996           1962.0  Berkshire Hathaway   \n",
              "4  Warren Buffett     2  2001           1962.0  Berkshire Hathaway   \n",
              "\n",
              "  company_relationship    sector company_type   age gender        country  \\\n",
              "0              founder  software          new  40.0   male  United States   \n",
              "1              founder  software          new  45.0   male  United States   \n",
              "2              founder  software          new  58.0   male  United States   \n",
              "3              founder   finance          new  65.0   male  United States   \n",
              "4              founder   finance          new  70.0   male  United States   \n",
              "\n",
              "          region          wealth_type  wealthworth_inbillions  \\\n",
              "0  North America  founder non-finance                    18.5   \n",
              "1  North America  founder non-finance                    58.7   \n",
              "2  North America  founder non-finance                    76.0   \n",
              "3  North America  founder non-finance                    15.0   \n",
              "4  North America  founder non-finance                    32.3   \n",
              "\n",
              "  wealth_how_category             industry wealth_how_inherited  \n",
              "0         New Sectors  Technology-Computer        not inherited  \n",
              "1         New Sectors  Technology-Computer        not inherited  \n",
              "2         New Sectors  Technology-Computer        not inherited  \n",
              "3      Traded Sectors             Consumer        not inherited  \n",
              "4      Traded Sectors             Consumer        not inherited  "
            ],
            "text/html": [
              "\n",
              "  <div id=\"df-95894047-0b74-4fd3-9601-110b05c2f79b\">\n",
              "    <div class=\"colab-df-container\">\n",
              "      <div>\n",
              "<style scoped>\n",
              "    .dataframe tbody tr th:only-of-type {\n",
              "        vertical-align: middle;\n",
              "    }\n",
              "\n",
              "    .dataframe tbody tr th {\n",
              "        vertical-align: top;\n",
              "    }\n",
              "\n",
              "    .dataframe thead th {\n",
              "        text-align: right;\n",
              "    }\n",
              "</style>\n",
              "<table border=\"1\" class=\"dataframe\">\n",
              "  <thead>\n",
              "    <tr style=\"text-align: right;\">\n",
              "      <th></th>\n",
              "      <th>name</th>\n",
              "      <th>rank</th>\n",
              "      <th>year</th>\n",
              "      <th>company_founded</th>\n",
              "      <th>company_name</th>\n",
              "      <th>company_relationship</th>\n",
              "      <th>sector</th>\n",
              "      <th>company_type</th>\n",
              "      <th>age</th>\n",
              "      <th>gender</th>\n",
              "      <th>country</th>\n",
              "      <th>region</th>\n",
              "      <th>wealth_type</th>\n",
              "      <th>wealthworth_inbillions</th>\n",
              "      <th>wealth_how_category</th>\n",
              "      <th>industry</th>\n",
              "      <th>wealth_how_inherited</th>\n",
              "    </tr>\n",
              "  </thead>\n",
              "  <tbody>\n",
              "    <tr>\n",
              "      <th>0</th>\n",
              "      <td>Bill Gates</td>\n",
              "      <td>1</td>\n",
              "      <td>1996</td>\n",
              "      <td>1975.0</td>\n",
              "      <td>Microsoft</td>\n",
              "      <td>founder</td>\n",
              "      <td>software</td>\n",
              "      <td>new</td>\n",
              "      <td>40.0</td>\n",
              "      <td>male</td>\n",
              "      <td>United States</td>\n",
              "      <td>North America</td>\n",
              "      <td>founder non-finance</td>\n",
              "      <td>18.5</td>\n",
              "      <td>New Sectors</td>\n",
              "      <td>Technology-Computer</td>\n",
              "      <td>not inherited</td>\n",
              "    </tr>\n",
              "    <tr>\n",
              "      <th>1</th>\n",
              "      <td>Bill Gates</td>\n",
              "      <td>1</td>\n",
              "      <td>2001</td>\n",
              "      <td>1975.0</td>\n",
              "      <td>Microsoft</td>\n",
              "      <td>founder</td>\n",
              "      <td>software</td>\n",
              "      <td>new</td>\n",
              "      <td>45.0</td>\n",
              "      <td>male</td>\n",
              "      <td>United States</td>\n",
              "      <td>North America</td>\n",
              "      <td>founder non-finance</td>\n",
              "      <td>58.7</td>\n",
              "      <td>New Sectors</td>\n",
              "      <td>Technology-Computer</td>\n",
              "      <td>not inherited</td>\n",
              "    </tr>\n",
              "    <tr>\n",
              "      <th>2</th>\n",
              "      <td>Bill Gates</td>\n",
              "      <td>1</td>\n",
              "      <td>2014</td>\n",
              "      <td>1975.0</td>\n",
              "      <td>Microsoft</td>\n",
              "      <td>founder</td>\n",
              "      <td>software</td>\n",
              "      <td>new</td>\n",
              "      <td>58.0</td>\n",
              "      <td>male</td>\n",
              "      <td>United States</td>\n",
              "      <td>North America</td>\n",
              "      <td>founder non-finance</td>\n",
              "      <td>76.0</td>\n",
              "      <td>New Sectors</td>\n",
              "      <td>Technology-Computer</td>\n",
              "      <td>not inherited</td>\n",
              "    </tr>\n",
              "    <tr>\n",
              "      <th>3</th>\n",
              "      <td>Warren Buffett</td>\n",
              "      <td>2</td>\n",
              "      <td>1996</td>\n",
              "      <td>1962.0</td>\n",
              "      <td>Berkshire Hathaway</td>\n",
              "      <td>founder</td>\n",
              "      <td>finance</td>\n",
              "      <td>new</td>\n",
              "      <td>65.0</td>\n",
              "      <td>male</td>\n",
              "      <td>United States</td>\n",
              "      <td>North America</td>\n",
              "      <td>founder non-finance</td>\n",
              "      <td>15.0</td>\n",
              "      <td>Traded Sectors</td>\n",
              "      <td>Consumer</td>\n",
              "      <td>not inherited</td>\n",
              "    </tr>\n",
              "    <tr>\n",
              "      <th>4</th>\n",
              "      <td>Warren Buffett</td>\n",
              "      <td>2</td>\n",
              "      <td>2001</td>\n",
              "      <td>1962.0</td>\n",
              "      <td>Berkshire Hathaway</td>\n",
              "      <td>founder</td>\n",
              "      <td>finance</td>\n",
              "      <td>new</td>\n",
              "      <td>70.0</td>\n",
              "      <td>male</td>\n",
              "      <td>United States</td>\n",
              "      <td>North America</td>\n",
              "      <td>founder non-finance</td>\n",
              "      <td>32.3</td>\n",
              "      <td>Traded Sectors</td>\n",
              "      <td>Consumer</td>\n",
              "      <td>not inherited</td>\n",
              "    </tr>\n",
              "  </tbody>\n",
              "</table>\n",
              "</div>\n",
              "      <button class=\"colab-df-convert\" onclick=\"convertToInteractive('df-95894047-0b74-4fd3-9601-110b05c2f79b')\"\n",
              "              title=\"Convert this dataframe to an interactive table.\"\n",
              "              style=\"display:none;\">\n",
              "        \n",
              "  <svg xmlns=\"http://www.w3.org/2000/svg\" height=\"24px\"viewBox=\"0 0 24 24\"\n",
              "       width=\"24px\">\n",
              "    <path d=\"M0 0h24v24H0V0z\" fill=\"none\"/>\n",
              "    <path d=\"M18.56 5.44l.94 2.06.94-2.06 2.06-.94-2.06-.94-.94-2.06-.94 2.06-2.06.94zm-11 1L8.5 8.5l.94-2.06 2.06-.94-2.06-.94L8.5 2.5l-.94 2.06-2.06.94zm10 10l.94 2.06.94-2.06 2.06-.94-2.06-.94-.94-2.06-.94 2.06-2.06.94z\"/><path d=\"M17.41 7.96l-1.37-1.37c-.4-.4-.92-.59-1.43-.59-.52 0-1.04.2-1.43.59L10.3 9.45l-7.72 7.72c-.78.78-.78 2.05 0 2.83L4 21.41c.39.39.9.59 1.41.59.51 0 1.02-.2 1.41-.59l7.78-7.78 2.81-2.81c.8-.78.8-2.07 0-2.86zM5.41 20L4 18.59l7.72-7.72 1.47 1.35L5.41 20z\"/>\n",
              "  </svg>\n",
              "      </button>\n",
              "      \n",
              "  <style>\n",
              "    .colab-df-container {\n",
              "      display:flex;\n",
              "      flex-wrap:wrap;\n",
              "      gap: 12px;\n",
              "    }\n",
              "\n",
              "    .colab-df-convert {\n",
              "      background-color: #E8F0FE;\n",
              "      border: none;\n",
              "      border-radius: 50%;\n",
              "      cursor: pointer;\n",
              "      display: none;\n",
              "      fill: #1967D2;\n",
              "      height: 32px;\n",
              "      padding: 0 0 0 0;\n",
              "      width: 32px;\n",
              "    }\n",
              "\n",
              "    .colab-df-convert:hover {\n",
              "      background-color: #E2EBFA;\n",
              "      box-shadow: 0px 1px 2px rgba(60, 64, 67, 0.3), 0px 1px 3px 1px rgba(60, 64, 67, 0.15);\n",
              "      fill: #174EA6;\n",
              "    }\n",
              "\n",
              "    [theme=dark] .colab-df-convert {\n",
              "      background-color: #3B4455;\n",
              "      fill: #D2E3FC;\n",
              "    }\n",
              "\n",
              "    [theme=dark] .colab-df-convert:hover {\n",
              "      background-color: #434B5C;\n",
              "      box-shadow: 0px 1px 3px 1px rgba(0, 0, 0, 0.15);\n",
              "      filter: drop-shadow(0px 1px 2px rgba(0, 0, 0, 0.3));\n",
              "      fill: #FFFFFF;\n",
              "    }\n",
              "  </style>\n",
              "\n",
              "      <script>\n",
              "        const buttonEl =\n",
              "          document.querySelector('#df-95894047-0b74-4fd3-9601-110b05c2f79b button.colab-df-convert');\n",
              "        buttonEl.style.display =\n",
              "          google.colab.kernel.accessAllowed ? 'block' : 'none';\n",
              "\n",
              "        async function convertToInteractive(key) {\n",
              "          const element = document.querySelector('#df-95894047-0b74-4fd3-9601-110b05c2f79b');\n",
              "          const dataTable =\n",
              "            await google.colab.kernel.invokeFunction('convertToInteractive',\n",
              "                                                     [key], {});\n",
              "          if (!dataTable) return;\n",
              "\n",
              "          const docLinkHtml = 'Like what you see? Visit the ' +\n",
              "            '<a target=\"_blank\" href=https://colab.research.google.com/notebooks/data_table.ipynb>data table notebook</a>'\n",
              "            + ' to learn more about interactive tables.';\n",
              "          element.innerHTML = '';\n",
              "          dataTable['output_type'] = 'display_data';\n",
              "          await google.colab.output.renderOutput(dataTable, element);\n",
              "          const docLink = document.createElement('div');\n",
              "          docLink.innerHTML = docLinkHtml;\n",
              "          element.appendChild(docLink);\n",
              "        }\n",
              "      </script>\n",
              "    </div>\n",
              "  </div>\n",
              "  "
            ]
          },
          "metadata": {},
          "execution_count": 191
        }
      ]
    },
    {
      "cell_type": "markdown",
      "source": [
        "What are the main industries with the highest number of women billionaires?"
      ],
      "metadata": {
        "id": "r777hWZJsXki"
      }
    },
    {
      "cell_type": "code",
      "source": [
        "data=df['gender'].value_counts()\n",
        "labl=[\"Male\",\"Female\"]\n",
        "d=[data[0],data[1]]\n",
        "\n",
        "plt.figure(figsize=(8,8))\n",
        "plt.pie(d,autopct='%1.1f%%',labels=labl,pctdistance=0.80)\n",
        "\n",
        "centre_circle = plt.Circle((0, 0), 0.65, fc='white')\n",
        "fig = plt.gcf()\n",
        "\n",
        "# Adding Circle in Pie chart\n",
        "fig.gca().add_artist(centre_circle)\n",
        "plt.title(\"Billionaires by Sex\",fontsize=18)\n",
        "plt.show()"
      ],
      "metadata": {
        "id": "v4H0U3dIasml",
        "colab": {
          "base_uri": "https://localhost:8080/",
          "height": 486
        },
        "outputId": "35a853be-1d36-43f8-c5ce-6e3ec29a63f9"
      },
      "execution_count": null,
      "outputs": [
        {
          "output_type": "display_data",
          "data": {
            "text/plain": [
              "<Figure size 576x576 with 1 Axes>"
            ],
            "image/png": "[encoded data removed]"
          },
          "metadata": {}
        }
      ]
    },
    {
      "cell_type": "code",
      "source": [
        "df2 = px.df()\n",
        "fig = px.scatter(df2, x='industry',y='wealthworth_inbillions',size = 'wealthworth_inbillions',color = 'gender', hover_data=['wealthworth_inbillions'])\n",
        "fig.show()"
      ],
      "metadata": {
        "id": "WiRTmc7AnyKN",
        "colab": {
          "base_uri": "https://localhost:8080/",
          "height": 200
        },
        "outputId": "34c928f4-955e-4252-9f97-f5abd20b9db1"
      },
      "execution_count": null,
      "outputs": [
        {
          "output_type": "error",
          "ename": "AttributeError",
          "evalue": "ignored",
          "traceback": [
            "\u001b[0;31m---------------------------------------------------------------------------\u001b[0m",
            "\u001b[0;31mAttributeError\u001b[0m                            Traceback (most recent call last)",
            "\u001b[0;32m<ipython-input-193-75c686a8518d>\u001b[0m in \u001b[0;36m<module>\u001b[0;34m\u001b[0m\n\u001b[0;32m----> 1\u001b[0;31m \u001b[0mdf2\u001b[0m \u001b[0;34m=\u001b[0m \u001b[0mpx\u001b[0m\u001b[0;34m.\u001b[0m\u001b[0mdf\u001b[0m\u001b[0;34m(\u001b[0m\u001b[0;34m)\u001b[0m\u001b[0;34m\u001b[0m\u001b[0;34m\u001b[0m\u001b[0m\n\u001b[0m\u001b[1;32m      2\u001b[0m \u001b[0mfig\u001b[0m \u001b[0;34m=\u001b[0m \u001b[0mpx\u001b[0m\u001b[0;34m.\u001b[0m\u001b[0mscatter\u001b[0m\u001b[0;34m(\u001b[0m\u001b[0mdf2\u001b[0m\u001b[0;34m,\u001b[0m \u001b[0mx\u001b[0m\u001b[0;34m=\u001b[0m\u001b[0;34m'industry'\u001b[0m\u001b[0;34m,\u001b[0m\u001b[0my\u001b[0m\u001b[0;34m=\u001b[0m\u001b[0;34m'wealthworth_inbillions'\u001b[0m\u001b[0;34m,\u001b[0m\u001b[0msize\u001b[0m \u001b[0;34m=\u001b[0m \u001b[0;34m'wealthworth_inbillions'\u001b[0m\u001b[0;34m,\u001b[0m\u001b[0mcolor\u001b[0m \u001b[0;34m=\u001b[0m \u001b[0;34m'gender'\u001b[0m\u001b[0;34m,\u001b[0m \u001b[0mhover_data\u001b[0m\u001b[0;34m=\u001b[0m\u001b[0;34m[\u001b[0m\u001b[0;34m'wealthworth_inbillions'\u001b[0m\u001b[0;34m]\u001b[0m\u001b[0;34m)\u001b[0m\u001b[0;34m\u001b[0m\u001b[0;34m\u001b[0m\u001b[0m\n\u001b[1;32m      3\u001b[0m \u001b[0mfig\u001b[0m\u001b[0;34m.\u001b[0m\u001b[0mshow\u001b[0m\u001b[0;34m(\u001b[0m\u001b[0;34m)\u001b[0m\u001b[0;34m\u001b[0m\u001b[0;34m\u001b[0m\u001b[0m\n",
            "\u001b[0;31mAttributeError\u001b[0m: module 'plotly.express' has no attribute 'df'"
          ]
        }
      ]
    },
    {
      "cell_type": "code",
      "source": [
        "df.head()"
      ],
      "metadata": {
        "id": "meOIbICOrXyB",
        "colab": {
          "base_uri": "https://localhost:8080/",
          "height": 337
        },
        "outputId": "5ceb0d49-4964-4e7c-ef1d-8102e415ef4b"
      },
      "execution_count": null,
      "outputs": [
        {
          "output_type": "execute_result",
          "data": {
            "text/plain": [
              "             name  rank  year  company_founded        company_name  \\\n",
              "0      Bill Gates     1  1996           1975.0           Microsoft   \n",
              "1      Bill Gates     1  2001           1975.0           Microsoft   \n",
              "2      Bill Gates     1  2014           1975.0           Microsoft   \n",
              "3  Warren Buffett     2  1996           1962.0  Berkshire Hathaway   \n",
              "4  Warren Buffett     2  2001           1962.0  Berkshire Hathaway   \n",
              "\n",
              "  company_relationship    sector company_type   age gender        country  \\\n",
              "0              founder  software          new  40.0   male  United States   \n",
              "1              founder  software          new  45.0   male  United States   \n",
              "2              founder  software          new  58.0   male  United States   \n",
              "3              founder   finance          new  65.0   male  United States   \n",
              "4              founder   finance          new  70.0   male  United States   \n",
              "\n",
              "          region          wealth_type  wealthworth_inbillions  \\\n",
              "0  North America  founder non-finance                    18.5   \n",
              "1  North America  founder non-finance                    58.7   \n",
              "2  North America  founder non-finance                    76.0   \n",
              "3  North America  founder non-finance                    15.0   \n",
              "4  North America  founder non-finance                    32.3   \n",
              "\n",
              "  wealth_how_category             industry wealth_how_inherited  \n",
              "0         New Sectors  Technology-Computer        not inherited  \n",
              "1         New Sectors  Technology-Computer        not inherited  \n",
              "2         New Sectors  Technology-Computer        not inherited  \n",
              "3      Traded Sectors             Consumer        not inherited  \n",
              "4      Traded Sectors             Consumer        not inherited  "
            ],
            "text/html": [
              "\n",
              "  <div id=\"df-4cdc0388-cd90-4971-a746-bf6348f33181\">\n",
              "    <div class=\"colab-df-container\">\n",
              "      <div>\n",
              "<style scoped>\n",
              "    .dataframe tbody tr th:only-of-type {\n",
              "        vertical-align: middle;\n",
              "    }\n",
              "\n",
              "    .dataframe tbody tr th {\n",
              "        vertical-align: top;\n",
              "    }\n",
              "\n",
              "    .dataframe thead th {\n",
              "        text-align: right;\n",
              "    }\n",
              "</style>\n",
              "<table border=\"1\" class=\"dataframe\">\n",
              "  <thead>\n",
              "    <tr style=\"text-align: right;\">\n",
              "      <th></th>\n",
              "      <th>name</th>\n",
              "      <th>rank</th>\n",
              "      <th>year</th>\n",
              "      <th>company_founded</th>\n",
              "      <th>company_name</th>\n",
              "      <th>company_relationship</th>\n",
              "      <th>sector</th>\n",
              "      <th>company_type</th>\n",
              "      <th>age</th>\n",
              "      <th>gender</th>\n",
              "      <th>country</th>\n",
              "      <th>region</th>\n",
              "      <th>wealth_type</th>\n",
              "      <th>wealthworth_inbillions</th>\n",
              "      <th>wealth_how_category</th>\n",
              "      <th>industry</th>\n",
              "      <th>wealth_how_inherited</th>\n",
              "    </tr>\n",
              "  </thead>\n",
              "  <tbody>\n",
              "    <tr>\n",
              "      <th>0</th>\n",
              "      <td>Bill Gates</td>\n",
              "      <td>1</td>\n",
              "      <td>1996</td>\n",
              "      <td>1975.0</td>\n",
              "      <td>Microsoft</td>\n",
              "      <td>founder</td>\n",
              "      <td>software</td>\n",
              "      <td>new</td>\n",
              "      <td>40.0</td>\n",
              "      <td>male</td>\n",
              "      <td>United States</td>\n",
              "      <td>North America</td>\n",
              "      <td>founder non-finance</td>\n",
              "      <td>18.5</td>\n",
              "      <td>New Sectors</td>\n",
              "      <td>Technology-Computer</td>\n",
              "      <td>not inherited</td>\n",
              "    </tr>\n",
              "    <tr>\n",
              "      <th>1</th>\n",
              "      <td>Bill Gates</td>\n",
              "      <td>1</td>\n",
              "      <td>2001</td>\n",
              "      <td>1975.0</td>\n",
              "      <td>Microsoft</td>\n",
              "      <td>founder</td>\n",
              "      <td>software</td>\n",
              "      <td>new</td>\n",
              "      <td>45.0</td>\n",
              "      <td>male</td>\n",
              "      <td>United States</td>\n",
              "      <td>North America</td>\n",
              "      <td>founder non-finance</td>\n",
              "      <td>58.7</td>\n",
              "      <td>New Sectors</td>\n",
              "      <td>Technology-Computer</td>\n",
              "      <td>not inherited</td>\n",
              "    </tr>\n",
              "    <tr>\n",
              "      <th>2</th>\n",
              "      <td>Bill Gates</td>\n",
              "      <td>1</td>\n",
              "      <td>2014</td>\n",
              "      <td>1975.0</td>\n",
              "      <td>Microsoft</td>\n",
              "      <td>founder</td>\n",
              "      <td>software</td>\n",
              "      <td>new</td>\n",
              "      <td>58.0</td>\n",
              "      <td>male</td>\n",
              "      <td>United States</td>\n",
              "      <td>North America</td>\n",
              "      <td>founder non-finance</td>\n",
              "      <td>76.0</td>\n",
              "      <td>New Sectors</td>\n",
              "      <td>Technology-Computer</td>\n",
              "      <td>not inherited</td>\n",
              "    </tr>\n",
              "    <tr>\n",
              "      <th>3</th>\n",
              "      <td>Warren Buffett</td>\n",
              "      <td>2</td>\n",
              "      <td>1996</td>\n",
              "      <td>1962.0</td>\n",
              "      <td>Berkshire Hathaway</td>\n",
              "      <td>founder</td>\n",
              "      <td>finance</td>\n",
              "      <td>new</td>\n",
              "      <td>65.0</td>\n",
              "      <td>male</td>\n",
              "      <td>United States</td>\n",
              "      <td>North America</td>\n",
              "      <td>founder non-finance</td>\n",
              "      <td>15.0</td>\n",
              "      <td>Traded Sectors</td>\n",
              "      <td>Consumer</td>\n",
              "      <td>not inherited</td>\n",
              "    </tr>\n",
              "    <tr>\n",
              "      <th>4</th>\n",
              "      <td>Warren Buffett</td>\n",
              "      <td>2</td>\n",
              "      <td>2001</td>\n",
              "      <td>1962.0</td>\n",
              "      <td>Berkshire Hathaway</td>\n",
              "      <td>founder</td>\n",
              "      <td>finance</td>\n",
              "      <td>new</td>\n",
              "      <td>70.0</td>\n",
              "      <td>male</td>\n",
              "      <td>United States</td>\n",
              "      <td>North America</td>\n",
              "      <td>founder non-finance</td>\n",
              "      <td>32.3</td>\n",
              "      <td>Traded Sectors</td>\n",
              "      <td>Consumer</td>\n",
              "      <td>not inherited</td>\n",
              "    </tr>\n",
              "  </tbody>\n",
              "</table>\n",
              "</div>\n",
              "      <button class=\"colab-df-convert\" onclick=\"convertToInteractive('df-4cdc0388-cd90-4971-a746-bf6348f33181')\"\n",
              "              title=\"Convert this dataframe to an interactive table.\"\n",
              "              style=\"display:none;\">\n",
              "        \n",
              "  <svg xmlns=\"http://www.w3.org/2000/svg\" height=\"24px\"viewBox=\"0 0 24 24\"\n",
              "       width=\"24px\">\n",
              "    <path d=\"M0 0h24v24H0V0z\" fill=\"none\"/>\n",
              "    <path d=\"M18.56 5.44l.94 2.06.94-2.06 2.06-.94-2.06-.94-.94-2.06-.94 2.06-2.06.94zm-11 1L8.5 8.5l.94-2.06 2.06-.94-2.06-.94L8.5 2.5l-.94 2.06-2.06.94zm10 10l.94 2.06.94-2.06 2.06-.94-2.06-.94-.94-2.06-.94 2.06-2.06.94z\"/><path d=\"M17.41 7.96l-1.37-1.37c-.4-.4-.92-.59-1.43-.59-.52 0-1.04.2-1.43.59L10.3 9.45l-7.72 7.72c-.78.78-.78 2.05 0 2.83L4 21.41c.39.39.9.59 1.41.59.51 0 1.02-.2 1.41-.59l7.78-7.78 2.81-2.81c.8-.78.8-2.07 0-2.86zM5.41 20L4 18.59l7.72-7.72 1.47 1.35L5.41 20z\"/>\n",
              "  </svg>\n",
              "      </button>\n",
              "      \n",
              "  <style>\n",
              "    .colab-df-container {\n",
              "      display:flex;\n",
              "      flex-wrap:wrap;\n",
              "      gap: 12px;\n",
              "    }\n",
              "\n",
              "    .colab-df-convert {\n",
              "      background-color: #E8F0FE;\n",
              "      border: none;\n",
              "      border-radius: 50%;\n",
              "      cursor: pointer;\n",
              "      display: none;\n",
              "      fill: #1967D2;\n",
              "      height: 32px;\n",
              "      padding: 0 0 0 0;\n",
              "      width: 32px;\n",
              "    }\n",
              "\n",
              "    .colab-df-convert:hover {\n",
              "      background-color: #E2EBFA;\n",
              "      box-shadow: 0px 1px 2px rgba(60, 64, 67, 0.3), 0px 1px 3px 1px rgba(60, 64, 67, 0.15);\n",
              "      fill: #174EA6;\n",
              "    }\n",
              "\n",
              "    [theme=dark] .colab-df-convert {\n",
              "      background-color: #3B4455;\n",
              "      fill: #D2E3FC;\n",
              "    }\n",
              "\n",
              "    [theme=dark] .colab-df-convert:hover {\n",
              "      background-color: #434B5C;\n",
              "      box-shadow: 0px 1px 3px 1px rgba(0, 0, 0, 0.15);\n",
              "      filter: drop-shadow(0px 1px 2px rgba(0, 0, 0, 0.3));\n",
              "      fill: #FFFFFF;\n",
              "    }\n",
              "  </style>\n",
              "\n",
              "      <script>\n",
              "        const buttonEl =\n",
              "          document.querySelector('#df-4cdc0388-cd90-4971-a746-bf6348f33181 button.colab-df-convert');\n",
              "        buttonEl.style.display =\n",
              "          google.colab.kernel.accessAllowed ? 'block' : 'none';\n",
              "\n",
              "        async function convertToInteractive(key) {\n",
              "          const element = document.querySelector('#df-4cdc0388-cd90-4971-a746-bf6348f33181');\n",
              "          const dataTable =\n",
              "            await google.colab.kernel.invokeFunction('convertToInteractive',\n",
              "                                                     [key], {});\n",
              "          if (!dataTable) return;\n",
              "\n",
              "          const docLinkHtml = 'Like what you see? Visit the ' +\n",
              "            '<a target=\"_blank\" href=https://colab.research.google.com/notebooks/data_table.ipynb>data table notebook</a>'\n",
              "            + ' to learn more about interactive tables.';\n",
              "          element.innerHTML = '';\n",
              "          dataTable['output_type'] = 'display_data';\n",
              "          await google.colab.output.renderOutput(dataTable, element);\n",
              "          const docLink = document.createElement('div');\n",
              "          docLink.innerHTML = docLinkHtml;\n",
              "          element.appendChild(docLink);\n",
              "        }\n",
              "      </script>\n",
              "    </div>\n",
              "  </div>\n",
              "  "
            ]
          },
          "metadata": {},
          "execution_count": 194
        }
      ]
    },
    {
      "cell_type": "markdown",
      "source": [
        "What age range represents the highest and lowest number of billionaires?"
      ],
      "metadata": {
        "id": "3S_589YLbcEu"
      }
    },
    {
      "cell_type": "code",
      "source": [
        "df['age_group'] = pd.cut(df['age'], bins = [12, 30, 50, 70, 100], include_lowest = True, labels = ['18-30', '30-50', '50-70','70+'])"
      ],
      "metadata": {
        "id": "JADb9ZAvbbAk"
      },
      "execution_count": null,
      "outputs": []
    },
    {
      "cell_type": "code",
      "source": [
        "df['age_group'].value_counts().plot(kind='bar', figsize=(9,6))\n",
        "plt.xlabel(\"Age Group\", fontsize=15, color='black')\n",
        "plt.ylabel(\"Billionaires Count\", fontsize=15, color='black')\n",
        "plt.yticks(size=15, weight=\"bold\", x=0, color=\"black\")\n",
        "plt.xticks(size=15, weight=\"bold\", x=0, color=\"black\", rotation = 0)\n",
        "plt.show()"
      ],
      "metadata": {
        "id": "ddabvnJ5bxra",
        "colab": {
          "base_uri": "https://localhost:8080/",
          "height": 398
        },
        "outputId": "952b8836-c8ae-4709-9035-bb6f318d091b"
      },
      "execution_count": null,
      "outputs": [
        {
          "output_type": "display_data",
          "data": {
            "text/plain": [
              "<Figure size 648x432 with 1 Axes>"
            ],
            "image/png": "[encoded data removed]"
          },
          "metadata": {
            "needs_background": "light"
          }
        }
      ]
    }
  ]
}